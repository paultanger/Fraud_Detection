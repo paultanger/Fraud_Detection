{
 "cells": [
  {
   "cell_type": "code",
   "execution_count": 11,
   "metadata": {},
   "outputs": [
    {
     "name": "stdout",
     "output_type": "stream",
     "text": [
      "The autoreload extension is already loaded. To reload it, use:\n",
      "  %reload_ext autoreload\n"
     ]
    }
   ],
   "source": [
    "import numpy as np\n",
    "import pandas as pd\n",
    "import matplotlib.pyplot as plt\n",
    "import seaborn as sns\n",
    "from scipy import stats\n",
    "%matplotlib inline\n",
    "pd.options.display.float_format = '{:,.2f}'.format\n",
    "plt.style.use('seaborn-white')\n",
    "# colorblind safe\n",
    "plt.style.use('seaborn-colorblind')\n",
    "plt.style.use('tableau-colorblind10')\n",
    "\n",
    "# width and precision for f strings\n",
    "width = 10\n",
    "precision = 4\n",
    "\n",
    "# default sizes for plots\n",
    "# https://matplotlib.org/3.3.0/tutorials/introductory/customizing.html#customizing-with-matplotlibrc-files\n",
    "plt.rcParams['figure.figsize'] = [10, 6]\n",
    "plt.rcParams['font.size'] = 16\n",
    "plt.rcParams['legend.fontsize'] = 'large'\n",
    "plt.rcParams['figure.titlesize'] = 'medium'\n",
    "plt.rcParams['lines.linewidth'] = 2\n",
    "\n",
    "# other settings\n",
    "pd.options.display.float_format = '{:,.4f}'.format\n",
    "pd.set_option(\"display.precision\", 3)\n",
    "np.set_printoptions(precision=3, suppress=True)\n",
    "%load_ext autoreload\n",
    "%autoreload 2\n",
    "pd.set_option('display.max_columns', None)\n",
    "%config IPCompleter.greedy=True"
   ]
  },
  {
   "cell_type": "code",
   "execution_count": 12,
   "metadata": {},
   "outputs": [],
   "source": [
    "# setup dir\n",
    "import sys, os\n",
    "sys.path.insert(0, os.path.abspath('/Users/pault/Desktop/github/CampsitePredict/src'))"
   ]
  },
  {
   "cell_type": "code",
   "execution_count": 13,
   "metadata": {},
   "outputs": [],
   "source": [
    "import helper_funcs as my_funcs"
   ]
  },
  {
   "cell_type": "code",
   "execution_count": 14,
   "metadata": {},
   "outputs": [],
   "source": [
    "data = pd.read_json('../data/data.zip')"
   ]
  },
  {
   "cell_type": "code",
   "execution_count": 15,
   "metadata": {},
   "outputs": [],
   "source": [
    "from sklearn.feature_extraction.text import TfidfVectorizer\n",
    "from sklearn.cluster import KMeans\n",
    "from sklearn.metrics import silhouette_score\n",
    "from collections import Counter"
   ]
  },
  {
   "cell_type": "code",
   "execution_count": 19,
   "metadata": {},
   "outputs": [],
   "source": [
    "data_nlp = data[['object_id', 'description']].copy()"
   ]
  },
  {
   "cell_type": "code",
   "execution_count": 20,
   "metadata": {},
   "outputs": [
    {
     "data": {
      "text/html": [
       "<div>\n",
       "<style scoped>\n",
       "    .dataframe tbody tr th:only-of-type {\n",
       "        vertical-align: middle;\n",
       "    }\n",
       "\n",
       "    .dataframe tbody tr th {\n",
       "        vertical-align: top;\n",
       "    }\n",
       "\n",
       "    .dataframe thead th {\n",
       "        text-align: right;\n",
       "    }\n",
       "</style>\n",
       "<table border=\"1\" class=\"dataframe\">\n",
       "  <thead>\n",
       "    <tr style=\"text-align: right;\">\n",
       "      <th></th>\n",
       "      <th>object_id</th>\n",
       "      <th>description</th>\n",
       "    </tr>\n",
       "  </thead>\n",
       "  <tbody>\n",
       "    <tr>\n",
       "      <th>0</th>\n",
       "      <td>527017</td>\n",
       "      <td>&lt;p&gt;&lt;a href=\"http://s432.photobucket.com/albums...</td>\n",
       "    </tr>\n",
       "    <tr>\n",
       "      <th>1</th>\n",
       "      <td>786878</td>\n",
       "      <td>&lt;p&gt;Join us for a quick, one-night, community-b...</td>\n",
       "    </tr>\n",
       "    <tr>\n",
       "      <th>2</th>\n",
       "      <td>787337</td>\n",
       "      <td>&lt;h3&gt;&lt;span class=\"subcategory\"&gt;&lt;strong&gt;Teacher ...</td>\n",
       "    </tr>\n",
       "    <tr>\n",
       "      <th>3</th>\n",
       "      <td>885645</td>\n",
       "      <td>&lt;p style=\"margin-bottom: 1.3em; padding-bottom...</td>\n",
       "    </tr>\n",
       "    <tr>\n",
       "      <th>4</th>\n",
       "      <td>1114349</td>\n",
       "      <td>&lt;p&gt;Writers and filmmakers need to understand t...</td>\n",
       "    </tr>\n",
       "  </tbody>\n",
       "</table>\n",
       "</div>"
      ],
      "text/plain": [
       "   object_id                                        description\n",
       "0     527017  <p><a href=\"http://s432.photobucket.com/albums...\n",
       "1     786878  <p>Join us for a quick, one-night, community-b...\n",
       "2     787337  <h3><span class=\"subcategory\"><strong>Teacher ...\n",
       "3     885645  <p style=\"margin-bottom: 1.3em; padding-bottom...\n",
       "4    1114349  <p>Writers and filmmakers need to understand t..."
      ]
     },
     "execution_count": 20,
     "metadata": {},
     "output_type": "execute_result"
    }
   ],
   "source": [
    "data_nlp.head()"
   ]
  },
  {
   "cell_type": "code",
   "execution_count": 21,
   "metadata": {},
   "outputs": [],
   "source": [
    "data_nlp.set_index(data_nlp['object_id'], inplace=True)"
   ]
  },
  {
   "cell_type": "code",
   "execution_count": 22,
   "metadata": {
    "scrolled": true
   },
   "outputs": [],
   "source": [
    "data_nlp.drop('object_id', axis=1, inplace=True)"
   ]
  },
  {
   "cell_type": "code",
   "execution_count": 23,
   "metadata": {},
   "outputs": [
    {
     "data": {
      "text/html": [
       "<div>\n",
       "<style scoped>\n",
       "    .dataframe tbody tr th:only-of-type {\n",
       "        vertical-align: middle;\n",
       "    }\n",
       "\n",
       "    .dataframe tbody tr th {\n",
       "        vertical-align: top;\n",
       "    }\n",
       "\n",
       "    .dataframe thead th {\n",
       "        text-align: right;\n",
       "    }\n",
       "</style>\n",
       "<table border=\"1\" class=\"dataframe\">\n",
       "  <thead>\n",
       "    <tr style=\"text-align: right;\">\n",
       "      <th></th>\n",
       "      <th>description</th>\n",
       "    </tr>\n",
       "    <tr>\n",
       "      <th>object_id</th>\n",
       "      <th></th>\n",
       "    </tr>\n",
       "  </thead>\n",
       "  <tbody>\n",
       "    <tr>\n",
       "      <th>527017</th>\n",
       "      <td>&lt;p&gt;&lt;a href=\"http://s432.photobucket.com/albums...</td>\n",
       "    </tr>\n",
       "    <tr>\n",
       "      <th>786878</th>\n",
       "      <td>&lt;p&gt;Join us for a quick, one-night, community-b...</td>\n",
       "    </tr>\n",
       "    <tr>\n",
       "      <th>787337</th>\n",
       "      <td>&lt;h3&gt;&lt;span class=\"subcategory\"&gt;&lt;strong&gt;Teacher ...</td>\n",
       "    </tr>\n",
       "    <tr>\n",
       "      <th>885645</th>\n",
       "      <td>&lt;p style=\"margin-bottom: 1.3em; padding-bottom...</td>\n",
       "    </tr>\n",
       "    <tr>\n",
       "      <th>1114349</th>\n",
       "      <td>&lt;p&gt;Writers and filmmakers need to understand t...</td>\n",
       "    </tr>\n",
       "  </tbody>\n",
       "</table>\n",
       "</div>"
      ],
      "text/plain": [
       "                                                 description\n",
       "object_id                                                   \n",
       "527017     <p><a href=\"http://s432.photobucket.com/albums...\n",
       "786878     <p>Join us for a quick, one-night, community-b...\n",
       "787337     <h3><span class=\"subcategory\"><strong>Teacher ...\n",
       "885645     <p style=\"margin-bottom: 1.3em; padding-bottom...\n",
       "1114349    <p>Writers and filmmakers need to understand t..."
      ]
     },
     "execution_count": 23,
     "metadata": {},
     "output_type": "execute_result"
    }
   ],
   "source": [
    "data_nlp.head()"
   ]
  },
  {
   "cell_type": "code",
   "execution_count": null,
   "metadata": {},
   "outputs": [],
   "source": [
    "data_nlp.loc[:,'description'][0]"
   ]
  },
  {
   "cell_type": "code",
   "execution_count": 24,
   "metadata": {},
   "outputs": [],
   "source": [
    "from bs4 import BeautifulSoup"
   ]
  },
  {
   "cell_type": "code",
   "execution_count": 25,
   "metadata": {},
   "outputs": [],
   "source": [
    "descriptions = data_nlp['description']"
   ]
  },
  {
   "cell_type": "code",
   "execution_count": 26,
   "metadata": {},
   "outputs": [
    {
     "data": {
      "text/plain": [
       "object_id\n",
       "527017     <p><a href=\"http://s432.photobucket.com/albums...\n",
       "786878     <p>Join us for a quick, one-night, community-b...\n",
       "787337     <h3><span class=\"subcategory\"><strong>Teacher ...\n",
       "885645     <p style=\"margin-bottom: 1.3em; padding-bottom...\n",
       "1114349    <p>Writers and filmmakers need to understand t...\n",
       "Name: description, dtype: object"
      ]
     },
     "execution_count": 26,
     "metadata": {},
     "output_type": "execute_result"
    }
   ],
   "source": [
    "descriptions.head()"
   ]
  },
  {
   "cell_type": "code",
   "execution_count": null,
   "metadata": {},
   "outputs": [],
   "source": [
    "soup = BeautifulSoup(descriptions[0], 'html.parser')"
   ]
  },
  {
   "cell_type": "code",
   "execution_count": null,
   "metadata": {},
   "outputs": [],
   "source": [
    "print(soup.prettify())"
   ]
  },
  {
   "cell_type": "code",
   "execution_count": null,
   "metadata": {
    "scrolled": true
   },
   "outputs": [],
   "source": [
    "from pprint import pprint\n",
    "pprint(soup)"
   ]
  },
  {
   "cell_type": "code",
   "execution_count": null,
   "metadata": {},
   "outputs": [],
   "source": [
    "#pd.read_html(descriptions[0])"
   ]
  },
  {
   "cell_type": "code",
   "execution_count": null,
   "metadata": {},
   "outputs": [],
   "source": [
    "soup.get_text()"
   ]
  },
  {
   "cell_type": "code",
   "execution_count": null,
   "metadata": {},
   "outputs": [],
   "source": [
    "#text = soup.find_all(text=True)"
   ]
  },
  {
   "cell_type": "code",
   "execution_count": null,
   "metadata": {},
   "outputs": [],
   "source": [
    "text"
   ]
  },
  {
   "cell_type": "code",
   "execution_count": 31,
   "metadata": {},
   "outputs": [],
   "source": [
    "test = descriptions.head()"
   ]
  },
  {
   "cell_type": "code",
   "execution_count": 32,
   "metadata": {},
   "outputs": [
    {
     "name": "stdout",
     "output_type": "stream",
     "text": [
      "<p><a href=\"http://s432.photobucket.com/albums/qq49/digusonline/?action=view&amp;current=supersunday.jpg\" target=\"_blank\"><img src=\"http://i432.photobucket.com/albums/qq49/digusonline/supersunday.jpg\" border=\"0\" alt=\"Photobucket\" /></a></p>\r\n",
      "<p> </p>\r\n",
      "<p style=\"text-align: center;\"><font size=\"3\"><strong>Party Starz Entertaintment &amp; Diverse International Group Presents...<br /></strong></font><br /><font face=\"tahoma,arial,helvetica,sans-serif\" size=\"4\"><strong>The Official \"99 Hour No Sleep\" Super Bowl </strong></font></p>\r\n",
      "<p style=\"text-align: center;\"><font face=\"tahoma,arial,helvetica,sans-serif\" size=\"4\"><strong>Weekend </strong></font><font face=\"tahoma,arial,helvetica,sans-serif\" size=\"4\"><strong>Grand Finale</strong></font></p>\r\n",
      "<p><br /><span style=\"font-family: Times New Roman,serif;\"><font size=\"3\"><font face=\"tahoma,arial,helvetica,sans-serif\">No matter who wins or loses, this post-game party cannot be missed! Enjoy the drink specials and all night music!<strong> </strong></font></font><span style=\"font-family: Times New Roman,serif;\"><font face=\"tahoma,arial,helvetica,sans-serif\" size=\"3\">The ultimate \"99 No Sleep\" Super Bowl Weekend Grand Finale! Sunday, February 7th, 2010 @ Ink Nightclub-South Beach (717 Washington Ave, Miami Bch, FL 33139).</font></span></span></p>\r\n",
      "<p><span style=\"font-family: Times New Roman,serif;\"><span style=\"font-family: Times New Roman,serif;\"><font face=\"tahoma,arial,helvetica,sans-serif\" size=\"3\">Hosted by 99 Jamz with special appearances by Fast Life Youngstaz. Special invited guests: Billy Blue, Dorrough and Brisco and with performances by various artist's and many many more at South Beach Miami's finest venue! This is a party you have to see to believe! This is everyone's last chance to make that impression, so don't half-step, bring your \"A\" game and party with all of the hottest artists, celebrities, models and superstar athletes that are guaranteed to be in the building!</font></span></span></p>\r\n",
      "<p><span style=\"font-family: Times New Roman,serif;\"><font size=\"3\"><span style=\"font-family: Times New Roman,serif;\"><font face=\"tahoma,arial,helvetica,sans-serif\">DJ Q &amp; DJ Slym will ber keepig the party jumping til the sun comes up with the hottest Hip-Hop, R&amp;B, Reggae, Old School and more. </font></span></font></span></p>\r\n",
      "<p><span style=\"font-family: Times New Roman,serif;\"><font size=\"3\"><span style=\"font-family: Times New Roman,serif;\"><font face=\"tahoma,arial,helvetica,sans-serif\">Doors open @ 10pm. Ladies are 18+ and 21+ for Gents. 2-4-1 drinks until 1am, plus the best bottle specials ALL NIGHT LONG!!! We're offering Super Bowl game ticket stub discounts all night!</font></span></font></span></p>\r\n",
      "<p><span style=\"font-family: Times New Roman,serif;\"><font size=\"3\"><span style=\"font-family: Times New Roman,serif;\"><font face=\"tahoma,arial,helvetica,sans-serif\">Dress code is enforced, but it's not what you wear but how you wear it! All-Night Drink Specials! For more information &amp; table reservations email</font></span></font></span><span style=\"font-family: Times New Roman,serif;\"><font size=\"3\"><span style=\"font-family: Times New Roman,serif;\"><font face=\"tahoma,arial,helvetica,sans-serif\">: <a href=\"mailto:99hrnosleepweekend@gmail.com\">99hrnosleepweekend@gmail.com</a> or 305.742.4880.</font></span></font></span></p>\r\n",
      "<p><span style=\"font-family: Times New Roman,serif;\"></span></p>\r\n",
      "<p> </p>\r\n",
      "<p style=\"text-align: center;\"><span style=\"font-family: Times New Roman,serif;\"><font size=\"3\"><span style=\"font-family: Times New Roman,serif;\"><font face=\"tahoma,arial,helvetica,sans-serif\">This is a 99 Hour No Sleep Celebrity Super Bowl Weekend event! <a \r\n",
      "<p> </p>\n",
      "<p>Join us for a quick, one-night, community-building trip to Charleston, SC.</p>\r\n",
      "<p><strong>COST:</strong></p>\r\n",
      "<p>The trip costs a total of $35, which includes breakfast and lunch on Saturday and housing. You will be responsible to pay for your own dinner on Friday and Saturday. Early Bird tickets are available until noon on January 20 and include a great Winter Getaway T-Shirt. So don't wait to register!</p>\r\n",
      "<p>Registration ends at noon on January 27.</p>\r\n",
      "<p>A <em>very limited number</em> of scholarships are available. Contact your campus minister as soon as possible to see if you qualify.</p>\r\n",
      "<p><strong>TRANSPORTATION:</strong></p>\r\n",
      "<p>We are working to secure two fifteen passenger buses, which will be filled on a first-come, first-served basis. Payment must be received before a slot on a bus can be reserved. You will be responsible for your own transportation if a bus slot is not available.</p>\r\n",
      "<p><strong>WHAT TO BRING:</strong></p>\r\n",
      "<p>We will be staying in the gym of <a href=\"http://www.metronorthpca.org/\">Metro North Presbyterian Church</a> in Goose Creek, SC, and showering (maybe) at various members homes. You will want to bring an air mattress, sleeping bag, towel, and anything else you might need to get a good nights sleep on a cold gym floor.</p>\r\n",
      "<p>You will also need to bring money for dinner on Friday and Saturday night.</p>\r\n",
      "<p><strong>WHAT WE'RE DOING:</strong></p>\r\n",
      "<p>Here is our general (and tentative) itinerary:</p>\r\n",
      "<p><span style=\"text-decoration: underline;\">Friday</span></p>\r\n",
      "<p>3pm - Leave from the Dinkins Parking Lot at Winthrop University<br />6pm - Arrive at Metro North Church and drop off belongings<br />8pm - Eat dinner in downtown Charleston, hang out<br />11pm - Return to Metro North, sleep</p>\r\n",
      "<p><span style=\"text-decoration: underline;\">Saturday</span></p>\r\n",
      "<p>9am - Breakfast<br />10am - Seminar on Faith in Life<br />11am - Pack, clean up, load up <br />noon - Lunch<br />1pm - Head to the beach<br />5pm - Head back to downtown Charleston (dinner on your own)<br />9pm - Leave for Rock Hill <br />midnight - Arrive in home </p>\r\n",
      "<p><strong>WAIVERS</strong></p>\r\n",
      "<p>By registering for this conference, you hereby acknowledge your agreement to the following waivers:</p>\r\n",
      "<p><span style=\"text-decoration: underline;\">Emergency Waiver</span></p>\r\n",
      "<p>I the attendee hereby authorize the staff of Reformed University Fellowship at Winthrop to act as my agent to consent to medical, surgical, or dental examination and/or treatment. In case of emergency, I hereby authorize treatment and/or care at any hospital.</p>\r\n",
      "<p><span style=\"text-decoration: underline;\">Insurance and Liability Waiver</span></p>\r\n",
      "<p><span>In consideration of my being allowed to participate in the Winthrop RUF Winter Getaway, I hereby assume all risks involved in my participation in this event. I understand that I will be responsible for any medical expenses for myself and waive any legal right or claim I or my family might have against Reformed University Fellowship/Ministries, its staff, or Board of Directors, as a result of any injury incurred or death by participation in activities or travel to or from the 2011 Winter Getaway. I agree that the foregoing insurance and liability waiver agreement is intended to be as broad and inclusive as is permitted by law in the State/Province in which the event is conducted and that if any portion thereof is held invalid it is agreed that the balance shall continue in full force and effect. </span></p>\n",
      "<h3><span class=\"subcategory\"><strong>Teacher Training on the Desired Results Developmental Profile- DRDP (2010) </strong><strong></strong></span></h3>\r\n",
      "<h3><font face=\"arial,helvetica,sans-serif\" size=\"3\">WestEd, at the request of the California Department of Education Child Development Division, has developed trainings and a cadre of certified trainers to provide training on the Desired Results Developmental Profile (2010).  Developed specifically for teachers, the trainings focus on the DRDP (2010) and its use in the classroom. Teachers will gain skills in observation and assessment. CEU and academic units are available for an additional fee.</font></h3>\r\n",
      "<h3><br /></h3>\r\n",
      "<h3><span class=\"subcategory\"><strong>Participants will learn about:</strong></span></h3>\r\n",
      "<ul>\r\n",
      "<li><font size=\"3\">The development of the Desired Results Developmental Profile - DRDP (2010)</font> </li>\r\n",
      "<li><font size=\"3\">The terms and layout of the Desired Results Developmental Profile - DRDP (2010)</font> </li>\r\n",
      "<li><font size=\"3\">Using the Desired Results Developmental Profile - DRDP (2010) to document and rate children’s growth</font> </li>\r\n",
      "<li><font size=\"3\">Building a tool kit to implement the Desired Results Developmental Profile - DRDP (2010)</font> </li>\r\n",
      "</ul>\r\n",
      "<p><span style=\"font-size: 11pt; font-family: Arial;\"><strong>Fees</strong></span><span style=\"font-size: 11pt; font-family: Arial;\">: The cost for the training is $100.00 per person. It is important to note that your registration is tentative until payment is received. Although we understand that circumstances may occur that cause you to miss the training, we cannot issue refunds. Participant substitutes are permitted if we are notified ahead of time. Payment for this event may be made by credit card or check. <strong><span style=\"text-decoration: underline;\">If you will pay by check select the \"show other payment options\" link below the order now button</span></strong>.<br /></span></p>\r\n",
      "<p class=\"MsoNormal\" style=\"margin-bottom: 12pt;\"><span style=\"font-size: 11pt; font-family: Arial;\"><strong>Time: </strong></span><span style=\"font-size: 11pt; font-family: Arial;\">The Training begins promptly at 8:30am. There will be a one-hour lunch break and the training will end at 4pm</span><span style=\"font-size: 11pt; font-family: Arial;\"><font size=\"2\"><strong>. (Lunch is not provided)</strong></font></span></p>\r\n",
      "<p class=\"MsoNormal\" style=\"margin-bottom: 12pt;\"><span style=\"font-size: 11pt; font-family: Arial;\"><font size=\"2\"><strong>* You must bring the confirmation ticket to the event.<br /></strong></font></span></p>\n",
      "<p style=\"margin-bottom: 1.3em; padding-bottom: 0px; line-height: 1.5em; color: #333333; font-family: Verdana, Arial, Helvetica, sans-serif; font-size: 10.909090995788574px;\">Affiliations are now due in respect of the 2013 Calendar Year. It is important that all those involved in Table Tennis - coaches, umpires, referees, administrators and players - are registered members of the ITTA.</p>\r\n",
      "<p style=\"margin-bottom: 1.3em; padding-bottom: 0px; line-height: 1.5em; color: #333333; font-family: Verdana, Arial, Helvetica, sans-serif; font-size: 10.909090995788574px;\"><strong>Why are Affiliations necessary ?</strong></p>\r\n",
      "<ul style=\"margin: 0px 0px 15px; padding: 0px; list-style-type: none; color: #333333; font-family: Verdana, Arial, Helvetica, sans-serif; font-size: 10.909090995788574px;\">\r\n",
      "<li style=\"margin: 0px 0px 4px 4px; padding: 0px 0px 0px 12px; list-style-type: none; line-height: 1.5em; background-image: url('http://www.irishtabletennis.com/interface/images/template/bullet.gif'); background-position: 0% 0%; background-repeat: no-repeat no-repeat;\">As a source of income – which will support the development of our Sport through  ITTA events and initiatives, such as Women In Sport Coaching, the Schools Development Programme, Tournaments, Provincial and National Training Camps, Level 1/2 Coaching Courses and the Junior Participation Series.</li>\r\n",
      "<li style=\"margin: 0px 0px 4px 4px; padding: 0px 0px 0px 12px; list-style-type: none; line-height: 1.5em; background-image: url('http://www.irishtabletennis.com/interface/images/template/bullet.gif'); background-position: 0% 0%; background-repeat: no-repeat no-repeat;\">In support of our Grant Application – the level of Affiliates is a key determinant in the allocation of our Core Grant as an NGB. Therefore, increased affiliations will generally result in a higher Grant Allocation, which in turn will increase your Association’s resources to develop our Sport.</li>\r\n",
      "<li style=\"margin: 0px 0px 4px 4px; padding: 0px 0px 0px 12px; list-style-type: none; line-height: 1.5em; background-image: url('http://www.irishtabletennis.com/interface/images/template/bullet.gif'); background-position: 0% 0%; background-repeat: no-repeat no-repeat;\">As a source of information – the number and geographical location of our affiliate base provides the Association with valuable information, which is a key ingredient in developing strategies and initiatives to promote and develop our Sport throughout the country.</li>\r\n",
      "<li style=\"margin: 0px 0px 4px 4px; padding: 0px 0px 0px 12px; list-style-type: none; line-height: 1.5em; background-image: url('http://www.irishtabletennis.com/interface/images/template/bullet.gif'); background-position: 0% 0%; background-repeat: no-repeat no-repeat;\">As a means of communication – for the delivery of Hotshots, Ezines, Tournament Entry Forms, and all relevant information from the TT world.</li>\r\n",
      "</ul>\r\n",
      "<p style=\"margin-bottom: 1.3em; padding-bottom: 0px; line-height: 1.5em; color: #333333; font-family: Verdana, Arial, Helvetica, sans-serif; font-size: 10.909090995788574px;\"> <strong>What are the Benefits of Affiliation ?</strong></p>\r\n",
      "<ul style=\"margin: 0px 0px 15px; padding: 0px; list-style-type: none; color: #333333; font-family: Verdana, Arial, Helvetica, sans-serif; font-size: 10.909090995788574px;\">\r\n",
      "<li style=\"margin: 0px 0px 4px 4px; padding: 0px 0px 0px 12px; list-style-type: none; line-height: 1.5em; background-image: url('http://www.irishtabletennis.com/interface/images/template/bullet.gif'); background-position: 0% 0%; background-repeat: no-repeat no-repeat;\"><strong>Identify with your Sport</strong> – All sports players register with their National Governing Body. The ITTA is the NGB for Table Tennis in Ireland and is affiliated to the International Table Tennis Federation and the European Table Tennis Union.</li>\r\n",
      "<li style=\"margin: 0px 0px 4px 4px; padding: 0px 0px 0px 12px; list-style-type: none; line-height: 1.5em; background-image: url('http://www.irishtabletennis.com/interface/images/template/bullet.gif'); background-position: 0% 0%; background-repeat: no-repeat no-repeat;\"><strong>Child Protection</strong> – all affiliates are protected by the ITTA’s Child Protection Policies and the Access NI (in NI) and Garda vetting procedures (in ROI) which conform to the highest standards. The Association has a dedicated Vetting Officer.</li>\r\n",
      "<li style=\"margin: 0px 0px 4px 4px; padding: 0px 0px 0px 12px; list-style-type: none; line-height: 1.5em; background-image: url('http://www.irishtabletennis.com/interface/images/template/bullet.gif'); background-position: 0% 0%; background-repeat: no-repeat no-repeat;\"><strong>Sport Development</strong> - while ISC and Sport NI funding is the primary source of income, the Association depends on sponsorship, fundraising and affiliation fees to invest in your sport and support the activities and initiatives to promote the sport throughout the country. Your affiliation fees are supporting the development of your sport.</li>\r\n",
      "<li style=\"margin: 0px 0px 4px 4px; padding: 0px 0px 0px 12px; list-style-type: none; line-height: 1.5em; background-image: url('http://www.irishtabletennis.com/interface/images/template/bullet.gif'); background-position: 0% 0%; background-repeat: no-repeat no-repeat;\"><strong>Tournaments</strong> – all affiliates are eligible to participate in all ITTA approved tournaments and events.</li>\r\n",
      "<li style=\"margin: 0px 0px 4px 4px; padding: 0px 0px 0px 12px; list-style-type: none; line-height: 1.5em; background-image: url('http://www.irishtabletennis.com/interface/images/template/bullet.gif'); background-position: 0% 0%; background-repeat: no-repeat no-repeat;\"><strong>Participation</strong> – the ITTA supports a wide range of initiatives which foster the development of the Sport at Primary, Secondary and University levels.  Participation projects are guided by our part-time WIS Co-ordinator. Focus is on co-ordinating our Schools Development Programme and on the continued development of the successful STIGA Junior Challenger Series which encourages participation at all levels.</li>\r\n",
      "<li style=\"margin: 0px 0px 4px 4px; padding: 0px 0px 0px 12px; list-style-type: none; line-height: 1.5em; background-image: url('http://www.irishtabletennis.com/interface/images/template/bullet.gif'); background-position: 0% 0%; background-repeat: no-repeat no-repeat;\"><strong>Coaching</strong> – the ITTA provides Coaching Ireland certified Coaching Courses for affiliated members, which are facilitated by the qualified Tutors in the country.</li>\r\n",
      "<li style=\"margin: 0px 0px 4px 4px; padding: 0px 0px 0px 12px; list-style-type: none; line-height: 1.5em; background-image: url('http://www.irishtabletennis.com/interface/images/template/bullet.gif'); background-position: 0% 0%; background-repeat: no-repeat no-repeat;\"><strong>Training Camps</strong> – affiliated members can attend Provincial and National Training Camps if they are selected by their respective Provincial / National Coaches.</li>\r\n",
      "<li style=\"margin: 0px 0px 4px 4px; padding: 0px 0px 0px 12px; list-style-type: none; line-height: 1.5em; background-image: url('http://www.irishtabletennis.com/interface/images/template/bullet.gif'); background-position: 0% 0%; background-repeat: no-repeat no-repeat;\"><strong>Opportunity to represent your Province/Country</strong> – all affiliates are eligible for Provincial and National Team selection, depending on specific selection criteria.</li>\r\n",
      "<li style=\"margin: 0px 0px 4px 4px; padding: 0px 0px 0px 12px; list-style-type: none; line-height: 1.5em; background-image: url('http://www.irishtabletennis.com/interface/images/template/bullet.gif'); background-position: 0% 0%; background-repeat: no-repeat no-repeat;\"><strong>Awards</strong> – each year, the Association recognizes outstanding achievements and contributions to the Sport through the ITTA Annual Awards. All affiliates are eligible for these awards, which include Best Male/Female Coach, Best Male/Female/Junior Player, Volunteer and Press Officer of the Year.</li>\r\n",
      "<li style=\"margin: 0px 0px 4px 4px; padding: 0px 0px 0px 12px; list-style-type: none; line-height: 1.5em; background-image: url('http://www.irishtabletennis.com/interface/images/template/bullet.gif'); background-position: 0% 0%; background-repeat: no-repeat no-repeat;\"><strong>TT Information</strong> – the ITTA is committed to communicating relevant and timely information on all TT related matters, such as previews and reviews of Domestic and International Competitions, Irish/Provincial Squads, Events and Initiatives, World TT News, Tournament Application Forms and Updates and Newsletters from our Sponsors. This is achieved through our new interactive Website, weekly and ad hoc Hotshots which are emailed to all affiliates, and our Event Marketing Stand.</li>\r\n",
      "<li style=\"margin: 0px 0px 4px 4px; padding: 0px 0px 0px 12px; list-style-type: none; line-height: 1.5em; background-image: url('http://www.irishtabletennis.com/interface/images/template/bullet.gif'); background-position: 0% 0%; background-repeat: no-repeat no-repeat;\"><strong>Referees, Umpires and Regulations</strong> – the ITTA is responsible for regulating  the Sport of TT in Ireland, and ensuring that properly trained Referees and Umpires are available to ensure that the ITTF rules and regulations are strictly adhered to. Umpire courses are available to all affiliates.</li>\r\n",
      "<li style=\"margin: 0px 0px 4px 4px; padding: 0px 0px 0px 12px; list-style-type: none; line-height: 1.5em; background-image: url('http://www.irishtabletennis.com/interface/images/template/bullet.gif'); background-position: 0% 0%; background-repeat: no-repeat no-repeat;\"><strong>Advice</strong> – the ITTA is always on hand through its full-time manager to answer all your queries related to TT matters.</li>\r\n",
      "<li style=\"margin: 0px 0px 4px 4px; padding: 0px 0px 0px 12px; list-style-type: none; line-height: 1.5em; background-image: url('http://www.irishtabletennis.com/interface/images/template/bullet.gif'); background-position: 0% 0%; background-repeat: no-repeat no-repeat;\"><strong>Opportunities </strong>– to meet new friends and to enjoy your Sport!</li>\r\n",
      "</ul>\r\n",
      "<p style=\"margin-bottom: 1.3em; padding-bottom: 0px; line-height: 1.5em; color: #333333; font-family: Verdana, Arial, Helvetica, sans-serif; font-size: 10.909090995788574px;\"> </p>\r\n",
      "<p style=\"margin-bottom: 1.3em; padding-bottom: 0px; line-height: 1.5em; color: #333333; font-family: Verdana, Arial, Helvetica, sans-serif; font-size: 10.909090995788574px;\" align=\"center\"><strong>The ITTA is the NGB for Your Sport.</strong></p>\r\n",
      "<p style=\"margin-bottom: 1.3em; padding-bottom: 0px; line-height: 1.5em; color: #333333; font-family: Verdana, Arial, Helvetica, sans-serif; font-size: 10.909090995788574px;\" align=\"center\"><strong>It is committed to facilitating all players at all levels who want to develop to their potential, and enjoy the sport of Table Tennis.</strong></p>\r\n",
      "<p style=\"margin-bottom: 1.3em; padding-bottom: 0px; line-height: 1.5em; color: #333333; font-family: Verdana, Arial, Helvetica, sans-serif; font-size: 10.909090995788574px;\" align=\"center\"><strong> By Affiliating, you are supporting the Association</strong><strong>’</strong><strong>s efforts in developing your Sport.</strong></p>\r\n",
      "<p style=\"margin-bottom: 1.3em; padding-bottom: 0px; line-height: 1.5em; color: #333333; font-family: Verdana, Arial, Helvetica, sans-serif; font-size: 10.909090995788574px;\" align=\"center\"><strong> Table Tennis is a Sport for All, and <span style=\"text-decoration: underline;\">your</span> Sport for Life !</strong></p>\r\n",
      "<p style=\"margin-bottom: 1.3em; padding-bottom: 0px; line-height: 1.5em; color: #333333; font-family: Verdana, Arial, Helvetica, sans-serif; font-size: 10.909090995788574px;\"><strong> </strong>If you require any further information on the ITTA or any Table Tennis related matter, or have any comments or suggestions, please log on to our Website (<span style=\"text-decoration: underline;\"><a style=\"color: #689700;\" href=\"http://www.irishtabletennis.com/itta/members/join/\">www.irishtabletennis.com</a></span>) or contact our Manager, Mr Darren Coombes on 01-6251135 or by email on <span style=\"text-decoration: underline;\"><a style=\"color: #689700;\" href=\"mailto:manager@irishtabletennis.com\">manager@irishtabletennis.com</a></span>). </p>\n",
      "<p>Writers and filmmakers need to understand their legal rights and how to defend themselves from those who may seek to exploit them. Production companies and distributors often know all the tricks of the trade, while writers and filmmakers know little about how to protect themselves. This seminar, geared towards both artists and attorneys representing artists, explains how writers and filmmakers can prevent problems from arising by properly securing underlying rights, and by encouraging the other party to live up to agreements by adding performance milestones, default penalties and arbitration clauses. In the event of a dispute, participants learn what remedies are available to enforce their rights. Related topics include creative approvals, typical compensation and terms of studio contracts, merchandising deals, and negotiating tactics and strategies. The seminar includes more than 100 pages of useful contracts, checklists, forms and materials.</p>\r\n",
      "<p> </p>\r\n",
      "<p><strong>Mark Litwak</strong> is an entertainment attorney based in Beverly Hills, California. His practice includes work in the areas of copyright, trademark, contract, multimedia law, intellectual property, and book publishing. As a Producer’s Representative, he assists filmmakers in arranging financing, marketing and distribution of their films. Litwak is the author of six books:  Reel Power, The Struggle for Influence and Success in the New Hollywood (William Morrow, 1986), Courtroom Crusaders (William Morrow, 1989), Dealmaking in the Film &amp; Television Industry (Silman-James Press, 1994) (winner of the 1996 Krasna-Krausz award for best book in the world on the film business), Contracts for the Film &amp; Television Industry (Silman-James Press, 2nd Ed. 1999), Litwak's Multimedia Producer's Handbook (Silman-James Press, 1998) and  Risky Business: Financing and Distributing Independent Film  (Silman-James Press, 2004). He has contributed articles for The Los Angeles Times, The Business of Film, The Hollywood Reporter, Moviemaker and The Independent.  He is the creator of the popular CD-ROM program Movie Magic Contracts. Litwak has been a lawyer for 33 years. He has an AV Peer Review Rating from Martindale-Hubbell and has been named a Southern California Super Lawyer by Law &amp; Politics magazine in 2006 and 2007. He also has served as an expert witness in movie industry disputes and is an IFTA Arbitrator.</p>\n"
     ]
    }
   ],
   "source": [
    "# iterate through each row and parse html # maybe better way to do this without iterating?\n",
    "for index, row in test.items(): \n",
    "    print(row)"
   ]
  },
  {
   "cell_type": "code",
   "execution_count": 33,
   "metadata": {},
   "outputs": [],
   "source": [
    "desc_dict = {}\n",
    "for index, row in test.items(): \n",
    "#     print(row)\n",
    "    soup = BeautifulSoup(row, 'html.parser')\n",
    "    text = soup.get_text()\n",
    "    desc_dict[index] = text"
   ]
  },
  {
   "cell_type": "code",
   "execution_count": 34,
   "metadata": {
    "scrolled": true
   },
   "outputs": [
    {
     "data": {
      "text/plain": [
       "'\\n\\xa0\\nParty Starz Entertaintment & Diverse International Group Presents...The Official\\xa0\"99 Hour No Sleep\" Super Bowl \\nWeekend Grand Finale\\nNo matter who wins or loses, this post-game party cannot be missed! Enjoy the drink specials and all night music!\\xa0The ultimate \"99 No Sleep\"\\xa0Super Bowl Weekend Grand Finale! Sunday, February 7th, 2010 @ Ink Nightclub-South Beach (717 Washington Ave, Miami Bch, FL 33139).\\nHosted by 99 Jamz with special appearances by Fast Life Youngstaz. Special invited guests: Billy Blue, Dorrough and Brisco and with performances by various artist\\'s and many many more at South Beach\\xa0Miami\\'s finest venue! This is a party you have to see to believe! This is everyone\\'s last chance to make that impression, so don\\'t\\xa0half-step, bring your \"A\" game\\xa0and party with\\xa0all of the hottest artists, celebrities, models and superstar athletes that are guaranteed to be in the building!\\nDJ Q & DJ Slym will ber keepig the party jumping til the sun comes up with the hottest Hip-Hop, R&B, Reggae, Old School and more. \\nDoors open @ 10pm. Ladies are 18+ and 21+ for Gents. 2-4-1 drinks until 1am, plus the best bottle specials ALL NIGHT LONG!!! We\\'re offering\\xa0Super Bowl game ticket stub discounts all night!\\nDress code is\\xa0enforced, but it\\'s not what you wear but how you wear it!\\xa0All-Night Drink Specials! For more information\\xa0& table reservations email: 99hrnosleepweekend@gmail.com or 305.742.4880.\\n\\n\\xa0\\nThis is a 99 Hour No Sleep Celebrity Super Bowl Weekend event! \\xa0'"
      ]
     },
     "execution_count": 34,
     "metadata": {},
     "output_type": "execute_result"
    }
   ],
   "source": [
    "desc_dict[527017]"
   ]
  },
  {
   "cell_type": "code",
   "execution_count": null,
   "metadata": {},
   "outputs": [],
   "source": [
    "desc_dict"
   ]
  },
  {
   "cell_type": "code",
   "execution_count": 35,
   "metadata": {},
   "outputs": [],
   "source": [
    "# do for full data\n",
    "desc_dict = {}\n",
    "for index, row in descriptions.items(): \n",
    "#     print(row)\n",
    "    soup = BeautifulSoup(row, 'html.parser')\n",
    "    text = soup.get_text()\n",
    "    desc_dict[index] = text"
   ]
  },
  {
   "cell_type": "code",
   "execution_count": 36,
   "metadata": {},
   "outputs": [
    {
     "data": {
      "text/plain": [
       "14337"
      ]
     },
     "execution_count": 36,
     "metadata": {},
     "output_type": "execute_result"
    }
   ],
   "source": [
    "len(desc_dict)"
   ]
  },
  {
   "cell_type": "code",
   "execution_count": 37,
   "metadata": {},
   "outputs": [],
   "source": [
    "X = pd.DataFrame.from_dict(desc_dict, orient='index')"
   ]
  },
  {
   "cell_type": "code",
   "execution_count": 38,
   "metadata": {},
   "outputs": [
    {
     "data": {
      "text/html": [
       "<div>\n",
       "<style scoped>\n",
       "    .dataframe tbody tr th:only-of-type {\n",
       "        vertical-align: middle;\n",
       "    }\n",
       "\n",
       "    .dataframe tbody tr th {\n",
       "        vertical-align: top;\n",
       "    }\n",
       "\n",
       "    .dataframe thead th {\n",
       "        text-align: right;\n",
       "    }\n",
       "</style>\n",
       "<table border=\"1\" class=\"dataframe\">\n",
       "  <thead>\n",
       "    <tr style=\"text-align: right;\">\n",
       "      <th></th>\n",
       "      <th>0</th>\n",
       "    </tr>\n",
       "  </thead>\n",
       "  <tbody>\n",
       "    <tr>\n",
       "      <th>527017</th>\n",
       "      <td>\\n \\nParty Starz Entertaintment &amp; Diverse Inte...</td>\n",
       "    </tr>\n",
       "    <tr>\n",
       "      <th>786878</th>\n",
       "      <td>Join us for a quick, one-night, community-buil...</td>\n",
       "    </tr>\n",
       "    <tr>\n",
       "      <th>787337</th>\n",
       "      <td>Teacher Training on the Desired Results Develo...</td>\n",
       "    </tr>\n",
       "    <tr>\n",
       "      <th>885645</th>\n",
       "      <td>Affiliations are now due in respect of the 201...</td>\n",
       "    </tr>\n",
       "    <tr>\n",
       "      <th>1114349</th>\n",
       "      <td>Writers and filmmakers need to understand thei...</td>\n",
       "    </tr>\n",
       "  </tbody>\n",
       "</table>\n",
       "</div>"
      ],
      "text/plain": [
       "                                                         0\n",
       "527017   \\n \\nParty Starz Entertaintment & Diverse Inte...\n",
       "786878   Join us for a quick, one-night, community-buil...\n",
       "787337   Teacher Training on the Desired Results Develo...\n",
       "885645   Affiliations are now due in respect of the 201...\n",
       "1114349  Writers and filmmakers need to understand thei..."
      ]
     },
     "execution_count": 38,
     "metadata": {},
     "output_type": "execute_result"
    }
   ],
   "source": [
    "X.head()"
   ]
  },
  {
   "cell_type": "code",
   "execution_count": 39,
   "metadata": {},
   "outputs": [],
   "source": [
    "# recreate y with my descriptions\n",
    "def convert(row):\n",
    "    if row['acct_type'] == 'fraudster_event':\n",
    "        val=True\n",
    "    elif row['acct_type'] == 'fraudster':\n",
    "        val=True\n",
    "    elif row['acct_type'] == 'fraudster_att':\n",
    "        val=True\n",
    "    else:\n",
    "        val=False\n",
    "    return val\n",
    "data['Fraud'] = data.apply(convert, axis=1)"
   ]
  },
  {
   "cell_type": "code",
   "execution_count": 44,
   "metadata": {},
   "outputs": [
    {
     "data": {
      "text/plain": [
       "pandas.core.frame.DataFrame"
      ]
     },
     "execution_count": 44,
     "metadata": {},
     "output_type": "execute_result"
    }
   ],
   "source": [
    "type(X)"
   ]
  },
  {
   "cell_type": "code",
   "execution_count": 43,
   "metadata": {},
   "outputs": [
    {
     "data": {
      "text/plain": [
       "(14337, 45)"
      ]
     },
     "execution_count": 43,
     "metadata": {},
     "output_type": "execute_result"
    }
   ],
   "source": [
    "data.shape"
   ]
  },
  {
   "cell_type": "code",
   "execution_count": 50,
   "metadata": {},
   "outputs": [],
   "source": [
    "# concat to X\n",
    "X['Fraud'] = data['Fraud'].values"
   ]
  },
  {
   "cell_type": "code",
   "execution_count": 51,
   "metadata": {},
   "outputs": [
    {
     "data": {
      "text/html": [
       "<div>\n",
       "<style scoped>\n",
       "    .dataframe tbody tr th:only-of-type {\n",
       "        vertical-align: middle;\n",
       "    }\n",
       "\n",
       "    .dataframe tbody tr th {\n",
       "        vertical-align: top;\n",
       "    }\n",
       "\n",
       "    .dataframe thead th {\n",
       "        text-align: right;\n",
       "    }\n",
       "</style>\n",
       "<table border=\"1\" class=\"dataframe\">\n",
       "  <thead>\n",
       "    <tr style=\"text-align: right;\">\n",
       "      <th></th>\n",
       "      <th>0</th>\n",
       "      <th>Fraud</th>\n",
       "    </tr>\n",
       "  </thead>\n",
       "  <tbody>\n",
       "    <tr>\n",
       "      <th>527017</th>\n",
       "      <td>\\n \\nParty Starz Entertaintment &amp; Diverse Inte...</td>\n",
       "      <td>True</td>\n",
       "    </tr>\n",
       "    <tr>\n",
       "      <th>786878</th>\n",
       "      <td>Join us for a quick, one-night, community-buil...</td>\n",
       "      <td>False</td>\n",
       "    </tr>\n",
       "    <tr>\n",
       "      <th>787337</th>\n",
       "      <td>Teacher Training on the Desired Results Develo...</td>\n",
       "      <td>False</td>\n",
       "    </tr>\n",
       "    <tr>\n",
       "      <th>885645</th>\n",
       "      <td>Affiliations are now due in respect of the 201...</td>\n",
       "      <td>False</td>\n",
       "    </tr>\n",
       "    <tr>\n",
       "      <th>1114349</th>\n",
       "      <td>Writers and filmmakers need to understand thei...</td>\n",
       "      <td>False</td>\n",
       "    </tr>\n",
       "  </tbody>\n",
       "</table>\n",
       "</div>"
      ],
      "text/plain": [
       "                                                         0  Fraud\n",
       "527017   \\n \\nParty Starz Entertaintment & Diverse Inte...   True\n",
       "786878   Join us for a quick, one-night, community-buil...  False\n",
       "787337   Teacher Training on the Desired Results Develo...  False\n",
       "885645   Affiliations are now due in respect of the 201...  False\n",
       "1114349  Writers and filmmakers need to understand thei...  False"
      ]
     },
     "execution_count": 51,
     "metadata": {},
     "output_type": "execute_result"
    }
   ],
   "source": [
    "X.head()"
   ]
  },
  {
   "cell_type": "code",
   "execution_count": 53,
   "metadata": {},
   "outputs": [],
   "source": [
    "y = data['Fraud']"
   ]
  },
  {
   "cell_type": "code",
   "execution_count": 54,
   "metadata": {},
   "outputs": [],
   "source": [
    "# test train split\n",
    "from sklearn.model_selection import train_test_split\n",
    "X_train, X_test, y_train, y_test = train_test_split(X, y, test_size=.25, random_state=42, stratify=y)"
   ]
  },
  {
   "cell_type": "code",
   "execution_count": 55,
   "metadata": {},
   "outputs": [
    {
     "name": "stdout",
     "output_type": "stream",
     "text": [
      "<class 'pandas.core.frame.DataFrame'>\n",
      "Int64Index: 10752 entries, 2919695 to 5358184\n",
      "Data columns (total 2 columns):\n",
      " #   Column  Non-Null Count  Dtype \n",
      "---  ------  --------------  ----- \n",
      " 0   0       10752 non-null  object\n",
      " 1   Fraud   10752 non-null  bool  \n",
      "dtypes: bool(1), object(1)\n",
      "memory usage: 178.5+ KB\n"
     ]
    }
   ],
   "source": [
    "X_train.info()"
   ]
  },
  {
   "cell_type": "code",
   "execution_count": 56,
   "metadata": {},
   "outputs": [],
   "source": [
    "# now do NLP\n",
    "# actually do it on all...\n",
    "tfidf = TfidfVectorizer(stop_words='english', max_features=10_000, max_df=0.9)\n",
    "all_desc_tfidf_matrix = tfidf.fit_transform(X[0])\n",
    "k = 30\n",
    "clust_names = ['', '', '']\n",
    "features = tfidf.get_feature_names()"
   ]
  },
  {
   "cell_type": "code",
   "execution_count": 57,
   "metadata": {},
   "outputs": [],
   "source": [
    "def run_kmeans(X, df, features, k):\n",
    "    '''\n",
    "    accepts a TFIDF object (X), original df, features, and k (int)\n",
    "    runs k means, gets top 20 cluster features, calcs % most common in each\n",
    "    returns these as two dictionaries\n",
    "    '''\n",
    "    kmeans = KMeans(k)\n",
    "    kmeans.fit(X)\n",
    "    top_centroids = kmeans.cluster_centers_.argsort()[:, -1:-21:-1]\n",
    "    cluster_feats = {}\n",
    "    for num, centroid in enumerate(top_centroids):\n",
    "        cluster_feats[num] = ', '.join(features[i] for i in centroid)\n",
    "    # get the cluster assigned to each row (site\n",
    "    assigned_cluster = kmeans.fit_transform(X).argmin(axis=1)\n",
    "    \n",
    "    return cluster_feats, kmeans\n",
    "\n",
    "    # save in dict\n",
    "#     cluster_cats = {}\n",
    "\n",
    "#     for i in range(kmeans.n_clusters):\n",
    "#         cluster = np.arange(0, X.shape[0])[assigned_cluster == i]\n",
    "#         categories = df.iloc[cluster]['Category']\n",
    "#         most_common = Counter(categories).most_common()\n",
    "#         cluster_cats[i] = {}\n",
    "#         for j in range(len(most_common)):\n",
    "#             cluster_cats[i].update({most_common[j][0]: most_common[j][1]})\n",
    "#     return cluster_cats, cluster_feats"
   ]
  },
  {
   "cell_type": "code",
   "execution_count": 58,
   "metadata": {},
   "outputs": [],
   "source": [
    "cluster_feats, km = run_kmeans(all_desc_tfidf_matrix, data, features, k)"
   ]
  },
  {
   "cell_type": "code",
   "execution_count": 59,
   "metadata": {
    "scrolled": false
   },
   "outputs": [
    {
     "data": {
      "text/plain": [
       "{0: 'new, music, join, film, class, world, 2013, come, event, time, life, tour, live, learn, day, 2012, com, year, conference, art',\n",
       " 1: 'com, www, http, facebook, https, event, dj, nyc, tickets, new, music, visit, party, youtube, twitter, org, eve, night, info, dance',\n",
       " 2: 'salesforce, report, campaign, course, campaigns, training, workshop, use, available, create, instance, charities, summary, computer, refunds, able, staff, 299, excluding, 56',\n",
       " 3: 'seed, pearl, club, business, marketing, people, networking, tanya, oyster, breakfast, want, vat, book, mini, believe, smarter, kick, fabulous, workshop, professionals',\n",
       " 4: 'event, tickets, 00, ticket, 30, party, pm, night, 10, wine, available, join, door, dinner, free, food, time, com, come, saturday',\n",
       " 5: 'sound, film, studio, seminar, introduction, post, complexities, brighton, filmmakers, twice, priced, studios, lovers, open, 12pm, 11am, delighted, chat, follows, 1pm',\n",
       " 6: 'business, workshop, course, training, learn, class, new, social, marketing, session, event, media, day, networking, work, people, time, 00, 30, help',\n",
       " 7: 'transformation, mixer, franchise, guests, transform, 00, 30, pm, model, new, life, video, interested, 40, enjoy, referral, lean, transformed, hearing, dvd',\n",
       " 8: 'coaching, ca, agile, coach, career, self, http, introductory, mas, 2012, leadership, coaches, 514, inscription, la, supervision, want, skills, 07, formation',\n",
       " 9: 'council, school, dealing, say, using, pearls, governance, operation, productive, gaining, covering, parent, difficult, officer, meetings, confidence, strong, supporting, managing, approach',\n",
       " 10: 'tour, tours, atlanta, restaurants, auburn, walking, market, ll, weather, allergies, alcohol, hungry, sweet, reschedule, bring, park, wear, tip, pets, guide',\n",
       " 11: 'social, eric, team, improve, feel, work, new, communications, life, true, relationships, people, business, ways, having, meeting, better, deepening, leah, psychologists',\n",
       " 12: 'amp, param, allowscriptaccess, allowfullscreen, embed, object, value, width, height, hl, 560, true, version, com, 315, youtube, vimeo, http, film, sea',\n",
       " 13: 'guitar, songs, play, playing, carrie, level, motivating, relaxation, skip, rhythm, tailored, lesson, progress, discovery, love, source, learning, learn, atmosphere, styles',\n",
       " 14: 'expires, 37, donating, deductible, alcoholic, purchases, combined, born, processing, beverages, valid, tax, tuesday, foundation, wednesday, used, offer, thursday, dinner, fee',\n",
       " 15: 'jump, waiver, minutes, stadium, meal, click, free, signed, kids, ins, sibling, 34, socks, requirement, rides, height, total, paying, allows, space',\n",
       " 16: 'beach, volleyball, doubles, qualification, champions, event, olympic, remaining, junior, tournament, coast, girls, games, awards, 16, 14, west, series, held, long',\n",
       " 17: 'dancers, states, united, adult, entertainment, enjoy, night, come, emotion, empathy, emotions, emotionally, emotional, emma, emmy, empire, emissions, eminent, emily, emfluence',\n",
       " 18: 'nhs, leadership, management, webpage, showcases, exists, 44, summit, information, king, programme, fund, currently, conference, change, annual, team, visit, events, including',\n",
       " 19: '6pm, 40, cost, time, être, emotions, employee, employed, empire, emphasis, empathy, emotionally, employer, emotional, emotion, emmy, emma, emissions, eminent, emily',\n",
       " 20: 'google, adwords, analytics, marketing, campaigns, business, search, en, advertising, website, online, campaign, web, internet, course, learn, using, seo, engage, training',\n",
       " 21: 'aid, paramedics, emergency, respond, delivered, parents, common, courses, experienced, responders, remind, nominal, sum, caregivers, emergencies, confidently, gst, ll, poster, correct',\n",
       " 22: 'et, les, la, le, des, vous, pour, en, du, une, au, est, dans, sur, par, nous, qui, avec, votre, que',\n",
       " 23: 'concert, live, communications, spring, presents, series, emotion, emphasis, empathy, emotions, emotionally, emotional, emma, emmy, employed, emissions, eminent, emily, emfluence, emerging',\n",
       " 24: 'hd, formats, workflows, camera, compression, digital, cinema, classes, series, essentials, cameras, production, color, raw, understanding, log, different, canon, sony, video',\n",
       " 25: 'toddler, seminar, training, weekend, workshop, babies, phase, bed, big, vancouver, talking, baby, language, start, essential, parents, healthy, kids, child, having',\n",
       " 26: 'donnie, ticket, discodonniepresents, disco, pdf, tickets, presents, com, scannable, barcode, scanned, authorized, identification, attached, admitted, purchase, completing, transfer, presenting, valid',\n",
       " 27: 'drummer, rich, versatile, nashville, drum, impressive, lesson, jason, talents, solid, bio, recording, dynamic, musical, sound, rock, private, today, hour, based',\n",
       " 28: 'couture, wedding, bridal, castle, maryland, october, lucky, academy, champagne, seats, 8pm, fashion, 2nd, 3rd, gift, arts, cinderella, money, charm, fairy',\n",
       " 29: 'module, epa, certification, lead, renovation, exercise, student, training, course, renovator, 4355, 723, certified, phone, dust, break, registration, work, exam, 646'}"
      ]
     },
     "execution_count": 59,
     "metadata": {},
     "output_type": "execute_result"
    }
   ],
   "source": [
    "cluster_feats"
   ]
  },
  {
   "cell_type": "code",
   "execution_count": 61,
   "metadata": {},
   "outputs": [],
   "source": [
    "# pull description for only fraud cases\n",
    "frauds = data[data['Fraud'] == True]"
   ]
  },
  {
   "cell_type": "code",
   "execution_count": 8,
   "metadata": {},
   "outputs": [
    {
     "data": {
      "text/html": [
       "<div>\n",
       "<style scoped>\n",
       "    .dataframe tbody tr th:only-of-type {\n",
       "        vertical-align: middle;\n",
       "    }\n",
       "\n",
       "    .dataframe tbody tr th {\n",
       "        vertical-align: top;\n",
       "    }\n",
       "\n",
       "    .dataframe thead th {\n",
       "        text-align: right;\n",
       "    }\n",
       "</style>\n",
       "<table border=\"1\" class=\"dataframe\">\n",
       "  <thead>\n",
       "    <tr style=\"text-align: right;\">\n",
       "      <th></th>\n",
       "      <th>approx_payout_date</th>\n",
       "      <th>body_length</th>\n",
       "      <th>channels</th>\n",
       "      <th>delivery_method</th>\n",
       "      <th>event_created</th>\n",
       "      <th>event_end</th>\n",
       "      <th>event_published</th>\n",
       "      <th>event_start</th>\n",
       "      <th>fb_published</th>\n",
       "      <th>gts</th>\n",
       "      <th>has_analytics</th>\n",
       "      <th>has_header</th>\n",
       "      <th>has_logo</th>\n",
       "      <th>name_length</th>\n",
       "      <th>num_order</th>\n",
       "      <th>num_payouts</th>\n",
       "      <th>object_id</th>\n",
       "      <th>org_facebook</th>\n",
       "      <th>org_twitter</th>\n",
       "      <th>sale_duration</th>\n",
       "      <th>sale_duration2</th>\n",
       "      <th>show_map</th>\n",
       "      <th>user_age</th>\n",
       "      <th>user_created</th>\n",
       "      <th>user_type</th>\n",
       "      <th>venue_latitude</th>\n",
       "      <th>venue_longitude</th>\n",
       "    </tr>\n",
       "    <tr>\n",
       "      <th>Fraud</th>\n",
       "      <th></th>\n",
       "      <th></th>\n",
       "      <th></th>\n",
       "      <th></th>\n",
       "      <th></th>\n",
       "      <th></th>\n",
       "      <th></th>\n",
       "      <th></th>\n",
       "      <th></th>\n",
       "      <th></th>\n",
       "      <th></th>\n",
       "      <th></th>\n",
       "      <th></th>\n",
       "      <th></th>\n",
       "      <th></th>\n",
       "      <th></th>\n",
       "      <th></th>\n",
       "      <th></th>\n",
       "      <th></th>\n",
       "      <th></th>\n",
       "      <th></th>\n",
       "      <th></th>\n",
       "      <th></th>\n",
       "      <th></th>\n",
       "      <th></th>\n",
       "      <th></th>\n",
       "      <th></th>\n",
       "    </tr>\n",
       "  </thead>\n",
       "  <tbody>\n",
       "    <tr>\n",
       "      <th>False</th>\n",
       "      <td>1,351,254,483.0700</td>\n",
       "      <td>3,886.9900</td>\n",
       "      <td>6.3800</td>\n",
       "      <td>0.4800</td>\n",
       "      <td>1,345,873,604.5300</td>\n",
       "      <td>1,350,822,491.6300</td>\n",
       "      <td>1,342,905,384.9700</td>\n",
       "      <td>1,350,544,896.4800</td>\n",
       "      <td>0.1400</td>\n",
       "      <td>2,481.6800</td>\n",
       "      <td>0.0800</td>\n",
       "      <td>0.2100</td>\n",
       "      <td>0.8600</td>\n",
       "      <td>42.7800</td>\n",
       "      <td>30.3400</td>\n",
       "      <td>37.0400</td>\n",
       "      <td>4,514,622.6200</td>\n",
       "      <td>8.6300</td>\n",
       "      <td>4.6900</td>\n",
       "      <td>49.8300</td>\n",
       "      <td>53.9500</td>\n",
       "      <td>0.8500</td>\n",
       "      <td>402.6800</td>\n",
       "      <td>1,311,081,741.2200</td>\n",
       "      <td>2.8200</td>\n",
       "      <td>35.1700</td>\n",
       "      <td>-60.6900</td>\n",
       "    </tr>\n",
       "    <tr>\n",
       "      <th>True</th>\n",
       "      <td>1,347,687,343.1600</td>\n",
       "      <td>1,508.8900</td>\n",
       "      <td>4.1500</td>\n",
       "      <td>0.0700</td>\n",
       "      <td>1,345,333,444.0200</td>\n",
       "      <td>1,347,255,379.3500</td>\n",
       "      <td>1,318,542,205.9500</td>\n",
       "      <td>1,346,777,043.6200</td>\n",
       "      <td>0.0200</td>\n",
       "      <td>1,911.2100</td>\n",
       "      <td>0.0000</td>\n",
       "      <td>0.0700</td>\n",
       "      <td>0.6500</td>\n",
       "      <td>29.9800</td>\n",
       "      <td>4.5300</td>\n",
       "      <td>0.5800</td>\n",
       "      <td>4,700,036.1200</td>\n",
       "      <td>1.0400</td>\n",
       "      <td>0.2900</td>\n",
       "      <td>14.1300</td>\n",
       "      <td>16.5400</td>\n",
       "      <td>0.7600</td>\n",
       "      <td>87.1500</td>\n",
       "      <td>1,337,804,461.4100</td>\n",
       "      <td>1.6200</td>\n",
       "      <td>35.9700</td>\n",
       "      <td>-43.4100</td>\n",
       "    </tr>\n",
       "  </tbody>\n",
       "</table>\n",
       "</div>"
      ],
      "text/plain": [
       "       approx_payout_date  body_length  channels  delivery_method  \\\n",
       "Fraud                                                               \n",
       "False  1,351,254,483.0700   3,886.9900    6.3800           0.4800   \n",
       "True   1,347,687,343.1600   1,508.8900    4.1500           0.0700   \n",
       "\n",
       "           event_created          event_end    event_published  \\\n",
       "Fraud                                                            \n",
       "False 1,345,873,604.5300 1,350,822,491.6300 1,342,905,384.9700   \n",
       "True  1,345,333,444.0200 1,347,255,379.3500 1,318,542,205.9500   \n",
       "\n",
       "             event_start  fb_published        gts  has_analytics  has_header  \\\n",
       "Fraud                                                                          \n",
       "False 1,350,544,896.4800        0.1400 2,481.6800         0.0800      0.2100   \n",
       "True  1,346,777,043.6200        0.0200 1,911.2100         0.0000      0.0700   \n",
       "\n",
       "       has_logo  name_length  num_order  num_payouts      object_id  \\\n",
       "Fraud                                                                 \n",
       "False    0.8600      42.7800    30.3400      37.0400 4,514,622.6200   \n",
       "True     0.6500      29.9800     4.5300       0.5800 4,700,036.1200   \n",
       "\n",
       "       org_facebook  org_twitter  sale_duration  sale_duration2  show_map  \\\n",
       "Fraud                                                                       \n",
       "False        8.6300       4.6900        49.8300         53.9500    0.8500   \n",
       "True         1.0400       0.2900        14.1300         16.5400    0.7600   \n",
       "\n",
       "       user_age       user_created  user_type  venue_latitude  venue_longitude  \n",
       "Fraud                                                                           \n",
       "False  402.6800 1,311,081,741.2200     2.8200         35.1700         -60.6900  \n",
       "True    87.1500 1,337,804,461.4100     1.6200         35.9700         -43.4100  "
      ]
     },
     "execution_count": 8,
     "metadata": {},
     "output_type": "execute_result"
    }
   ],
   "source": [
    "data.groupby('Fraud').agg('mean').round(2)"
   ]
  },
  {
   "cell_type": "code",
   "execution_count": 9,
   "metadata": {
    "scrolled": true
   },
   "outputs": [
    {
     "data": {
      "text/plain": [
       "'| Fraud   |   approx_payout_date |   body_length |   channels |   delivery_method |   event_created |   event_end |   event_published |   event_start |   fb_published |     gts |   has_analytics |   has_header |   has_logo |   name_length |   num_order |   num_payouts |   object_id |   org_facebook |   org_twitter |   sale_duration |   sale_duration2 |   show_map |   user_age |   user_created |   user_type |   venue_latitude |   venue_longitude |\\n|:--------|---------------------:|--------------:|-----------:|------------------:|----------------:|------------:|------------------:|--------------:|---------------:|--------:|----------------:|-------------:|-----------:|--------------:|------------:|--------------:|------------:|---------------:|--------------:|----------------:|-----------------:|-----------:|-----------:|---------------:|------------:|-----------------:|------------------:|\\n| False   |          1.35125e+09 |       3886.99 |       6.38 |              0.48 |     1.34587e+09 | 1.35082e+09 |       1.34291e+09 |   1.35054e+09 |           0.14 | 2481.68 |            0.08 |         0.21 |       0.86 |         42.78 |       30.34 |         37.04 | 4.51462e+06 |           8.63 |          4.69 |           49.83 |            53.95 |       0.85 |     402.68 |    1.31108e+09 |        2.82 |            35.17 |            -60.69 |\\n| True    |          1.34769e+09 |       1508.89 |       4.15 |              0.07 |     1.34533e+09 | 1.34726e+09 |       1.31854e+09 |   1.34678e+09 |           0.02 | 1911.21 |            0    |         0.07 |       0.65 |         29.98 |        4.53 |          0.58 | 4.70004e+06 |           1.04 |          0.29 |           14.13 |            16.54 |       0.76 |      87.15 |    1.3378e+09  |        1.62 |            35.97 |            -43.41 |'"
      ]
     },
     "execution_count": 9,
     "metadata": {},
     "output_type": "execute_result"
    }
   ],
   "source": [
    "data.groupby('Fraud').agg('mean').round(2).to_markdown()"
   ]
  },
  {
   "cell_type": "code",
   "execution_count": 127,
   "metadata": {},
   "outputs": [],
   "source": [
    "not_frauds = data[data['Fraud'] == False]"
   ]
  },
  {
   "cell_type": "code",
   "execution_count": 128,
   "metadata": {},
   "outputs": [
    {
     "data": {
      "text/html": [
       "<div>\n",
       "<style scoped>\n",
       "    .dataframe tbody tr th:only-of-type {\n",
       "        vertical-align: middle;\n",
       "    }\n",
       "\n",
       "    .dataframe tbody tr th {\n",
       "        vertical-align: top;\n",
       "    }\n",
       "\n",
       "    .dataframe thead th {\n",
       "        text-align: right;\n",
       "    }\n",
       "</style>\n",
       "<table border=\"1\" class=\"dataframe\">\n",
       "  <thead>\n",
       "    <tr style=\"text-align: right;\">\n",
       "      <th></th>\n",
       "      <th>approx_payout_date</th>\n",
       "      <th>body_length</th>\n",
       "      <th>channels</th>\n",
       "      <th>delivery_method</th>\n",
       "      <th>event_created</th>\n",
       "      <th>event_end</th>\n",
       "      <th>event_published</th>\n",
       "      <th>event_start</th>\n",
       "      <th>fb_published</th>\n",
       "      <th>gts</th>\n",
       "      <th>has_analytics</th>\n",
       "      <th>has_header</th>\n",
       "      <th>has_logo</th>\n",
       "      <th>name_length</th>\n",
       "      <th>num_order</th>\n",
       "      <th>num_payouts</th>\n",
       "      <th>object_id</th>\n",
       "      <th>org_facebook</th>\n",
       "      <th>org_twitter</th>\n",
       "      <th>sale_duration</th>\n",
       "      <th>sale_duration2</th>\n",
       "      <th>show_map</th>\n",
       "      <th>user_age</th>\n",
       "      <th>user_created</th>\n",
       "      <th>user_type</th>\n",
       "      <th>venue_latitude</th>\n",
       "      <th>venue_longitude</th>\n",
       "    </tr>\n",
       "  </thead>\n",
       "  <tbody>\n",
       "    <tr>\n",
       "      <th>count</th>\n",
       "      <td>13,044.0000</td>\n",
       "      <td>13,044.0000</td>\n",
       "      <td>13,044.0000</td>\n",
       "      <td>13,040.0000</td>\n",
       "      <td>13,044.0000</td>\n",
       "      <td>13,044.0000</td>\n",
       "      <td>13,039.0000</td>\n",
       "      <td>13,044.0000</td>\n",
       "      <td>13,044.0000</td>\n",
       "      <td>13,044.0000</td>\n",
       "      <td>13,044.0000</td>\n",
       "      <td>8,409.0000</td>\n",
       "      <td>13,044.0000</td>\n",
       "      <td>13,044.0000</td>\n",
       "      <td>13,044.0000</td>\n",
       "      <td>13,044.0000</td>\n",
       "      <td>13,044.0000</td>\n",
       "      <td>13,040.0000</td>\n",
       "      <td>13,040.0000</td>\n",
       "      <td>13,007.0000</td>\n",
       "      <td>13,044.0000</td>\n",
       "      <td>13,044.0000</td>\n",
       "      <td>13,044.0000</td>\n",
       "      <td>13,044.0000</td>\n",
       "      <td>13,044.0000</td>\n",
       "      <td>12,338.0000</td>\n",
       "      <td>12,338.0000</td>\n",
       "    </tr>\n",
       "    <tr>\n",
       "      <th>mean</th>\n",
       "      <td>1,351,254,483.0727</td>\n",
       "      <td>3,886.9946</td>\n",
       "      <td>6.3776</td>\n",
       "      <td>0.4755</td>\n",
       "      <td>1,345,873,604.5285</td>\n",
       "      <td>1,350,822,491.6283</td>\n",
       "      <td>1,342,905,384.9734</td>\n",
       "      <td>1,350,544,896.4811</td>\n",
       "      <td>0.1378</td>\n",
       "      <td>2,481.6796</td>\n",
       "      <td>0.0800</td>\n",
       "      <td>0.2103</td>\n",
       "      <td>0.8615</td>\n",
       "      <td>42.7846</td>\n",
       "      <td>30.3382</td>\n",
       "      <td>37.0414</td>\n",
       "      <td>4,514,622.6189</td>\n",
       "      <td>8.6332</td>\n",
       "      <td>4.6880</td>\n",
       "      <td>49.8276</td>\n",
       "      <td>53.9502</td>\n",
       "      <td>0.8529</td>\n",
       "      <td>402.6831</td>\n",
       "      <td>1,311,081,741.2213</td>\n",
       "      <td>2.8193</td>\n",
       "      <td>35.1658</td>\n",
       "      <td>-60.6931</td>\n",
       "    </tr>\n",
       "    <tr>\n",
       "      <th>std</th>\n",
       "      <td>23,425,148.5558</td>\n",
       "      <td>5,889.3185</td>\n",
       "      <td>3.7689</td>\n",
       "      <td>0.5999</td>\n",
       "      <td>23,531,803.2216</td>\n",
       "      <td>23,425,144.7723</td>\n",
       "      <td>70,606,429.5994</td>\n",
       "      <td>23,451,327.6057</td>\n",
       "      <td>0.3447</td>\n",
       "      <td>9,471.3123</td>\n",
       "      <td>0.2712</td>\n",
       "      <td>0.4075</td>\n",
       "      <td>0.3454</td>\n",
       "      <td>22.5672</td>\n",
       "      <td>99.0070</td>\n",
       "      <td>130.7762</td>\n",
       "      <td>1,959,377.3010</td>\n",
       "      <td>11.9836</td>\n",
       "      <td>6.1264</td>\n",
       "      <td>53.3786</td>\n",
       "      <td>58.6919</td>\n",
       "      <td>0.3542</td>\n",
       "      <td>417.5086</td>\n",
       "      <td>40,539,046.3767</td>\n",
       "      <td>1.6143</td>\n",
       "      <td>20.4019</td>\n",
       "      <td>66.9928</td>\n",
       "    </tr>\n",
       "    <tr>\n",
       "      <th>min</th>\n",
       "      <td>1,283,225,400.0000</td>\n",
       "      <td>0.0000</td>\n",
       "      <td>0.0000</td>\n",
       "      <td>0.0000</td>\n",
       "      <td>1,256,225,769.0000</td>\n",
       "      <td>1,282,793,400.0000</td>\n",
       "      <td>0.0000</td>\n",
       "      <td>1,273,089,600.0000</td>\n",
       "      <td>0.0000</td>\n",
       "      <td>0.0000</td>\n",
       "      <td>0.0000</td>\n",
       "      <td>0.0000</td>\n",
       "      <td>0.0000</td>\n",
       "      <td>0.0000</td>\n",
       "      <td>0.0000</td>\n",
       "      <td>0.0000</td>\n",
       "      <td>379,603.0000</td>\n",
       "      <td>0.0000</td>\n",
       "      <td>0.0000</td>\n",
       "      <td>-143.0000</td>\n",
       "      <td>-86.0000</td>\n",
       "      <td>0.0000</td>\n",
       "      <td>0.0000</td>\n",
       "      <td>1,011,210,442.0000</td>\n",
       "      <td>1.0000</td>\n",
       "      <td>-45.0452</td>\n",
       "      <td>-159.3902</td>\n",
       "    </tr>\n",
       "    <tr>\n",
       "      <th>25%</th>\n",
       "      <td>1,334,875,950.0000</td>\n",
       "      <td>904.0000</td>\n",
       "      <td>5.0000</td>\n",
       "      <td>0.0000</td>\n",
       "      <td>1,329,426,933.7500</td>\n",
       "      <td>1,334,443,950.0000</td>\n",
       "      <td>1,329,583,021.5000</td>\n",
       "      <td>1,334,061,900.0000</td>\n",
       "      <td>0.0000</td>\n",
       "      <td>124.5100</td>\n",
       "      <td>0.0000</td>\n",
       "      <td>0.0000</td>\n",
       "      <td>1.0000</td>\n",
       "      <td>27.0000</td>\n",
       "      <td>3.0000</td>\n",
       "      <td>0.0000</td>\n",
       "      <td>2,877,048.5000</td>\n",
       "      <td>0.0000</td>\n",
       "      <td>0.0000</td>\n",
       "      <td>19.0000</td>\n",
       "      <td>20.0000</td>\n",
       "      <td>1.0000</td>\n",
       "      <td>37.0000</td>\n",
       "      <td>1,284,578,098.7500</td>\n",
       "      <td>3.0000</td>\n",
       "      <td>34.0397</td>\n",
       "      <td>-97.7140</td>\n",
       "    </tr>\n",
       "    <tr>\n",
       "      <th>50%</th>\n",
       "      <td>1,356,140,700.0000</td>\n",
       "      <td>2,164.0000</td>\n",
       "      <td>6.0000</td>\n",
       "      <td>0.0000</td>\n",
       "      <td>1,351,139,989.5000</td>\n",
       "      <td>1,355,708,700.0000</td>\n",
       "      <td>1,351,365,893.0000</td>\n",
       "      <td>1,355,510,700.0000</td>\n",
       "      <td>0.0000</td>\n",
       "      <td>438.6750</td>\n",
       "      <td>0.0000</td>\n",
       "      <td>0.0000</td>\n",
       "      <td>1.0000</td>\n",
       "      <td>39.0000</td>\n",
       "      <td>9.0000</td>\n",
       "      <td>3.0000</td>\n",
       "      <td>4,589,996.0000</td>\n",
       "      <td>0.0000</td>\n",
       "      <td>0.0000</td>\n",
       "      <td>35.0000</td>\n",
       "      <td>37.0000</td>\n",
       "      <td>1.0000</td>\n",
       "      <td>293.0000</td>\n",
       "      <td>1,313,805,994.0000</td>\n",
       "      <td>3.0000</td>\n",
       "      <td>39.9819</td>\n",
       "      <td>-79.7493</td>\n",
       "    </tr>\n",
       "    <tr>\n",
       "      <th>75%</th>\n",
       "      <td>1,370,595,600.0000</td>\n",
       "      <td>4,567.2500</td>\n",
       "      <td>8.0000</td>\n",
       "      <td>1.0000</td>\n",
       "      <td>1,365,123,186.7500</td>\n",
       "      <td>1,370,163,600.0000</td>\n",
       "      <td>1,365,444,075.0000</td>\n",
       "      <td>1,370,047,050.0000</td>\n",
       "      <td>0.0000</td>\n",
       "      <td>1,540.8900</td>\n",
       "      <td>0.0000</td>\n",
       "      <td>0.0000</td>\n",
       "      <td>1.0000</td>\n",
       "      <td>54.0000</td>\n",
       "      <td>25.0000</td>\n",
       "      <td>16.0000</td>\n",
       "      <td>6,035,103.5000</td>\n",
       "      <td>15.0000</td>\n",
       "      <td>11.0000</td>\n",
       "      <td>62.0000</td>\n",
       "      <td>67.0000</td>\n",
       "      <td>1.0000</td>\n",
       "      <td>640.0000</td>\n",
       "      <td>1,343,315,642.0000</td>\n",
       "      <td>3.0000</td>\n",
       "      <td>44.6423</td>\n",
       "      <td>-6.2552</td>\n",
       "    </tr>\n",
       "    <tr>\n",
       "      <th>max</th>\n",
       "      <td>1,419,292,800.0000</td>\n",
       "      <td>65,535.0000</td>\n",
       "      <td>13.0000</td>\n",
       "      <td>3.0000</td>\n",
       "      <td>1,381,171,266.0000</td>\n",
       "      <td>1,418,860,800.0000</td>\n",
       "      <td>1,381,171,529.0000</td>\n",
       "      <td>1,418,850,000.0000</td>\n",
       "      <td>1.0000</td>\n",
       "      <td>306,293.9300</td>\n",
       "      <td>1.0000</td>\n",
       "      <td>1.0000</td>\n",
       "      <td>1.0000</td>\n",
       "      <td>254.0000</td>\n",
       "      <td>2,000.0000</td>\n",
       "      <td>1,858.0000</td>\n",
       "      <td>8,671,713.0000</td>\n",
       "      <td>91.0000</td>\n",
       "      <td>34.0000</td>\n",
       "      <td>848.0000</td>\n",
       "      <td>848.0000</td>\n",
       "      <td>1.0000</td>\n",
       "      <td>3,794.0000</td>\n",
       "      <td>1,380,115,338.0000</td>\n",
       "      <td>103.0000</td>\n",
       "      <td>64.8440</td>\n",
       "      <td>176.1695</td>\n",
       "    </tr>\n",
       "  </tbody>\n",
       "</table>\n",
       "</div>"
      ],
      "text/plain": [
       "       approx_payout_date  body_length    channels  delivery_method  \\\n",
       "count         13,044.0000  13,044.0000 13,044.0000      13,040.0000   \n",
       "mean   1,351,254,483.0727   3,886.9946      6.3776           0.4755   \n",
       "std       23,425,148.5558   5,889.3185      3.7689           0.5999   \n",
       "min    1,283,225,400.0000       0.0000      0.0000           0.0000   \n",
       "25%    1,334,875,950.0000     904.0000      5.0000           0.0000   \n",
       "50%    1,356,140,700.0000   2,164.0000      6.0000           0.0000   \n",
       "75%    1,370,595,600.0000   4,567.2500      8.0000           1.0000   \n",
       "max    1,419,292,800.0000  65,535.0000     13.0000           3.0000   \n",
       "\n",
       "           event_created          event_end    event_published  \\\n",
       "count        13,044.0000        13,044.0000        13,039.0000   \n",
       "mean  1,345,873,604.5285 1,350,822,491.6283 1,342,905,384.9734   \n",
       "std      23,531,803.2216    23,425,144.7723    70,606,429.5994   \n",
       "min   1,256,225,769.0000 1,282,793,400.0000             0.0000   \n",
       "25%   1,329,426,933.7500 1,334,443,950.0000 1,329,583,021.5000   \n",
       "50%   1,351,139,989.5000 1,355,708,700.0000 1,351,365,893.0000   \n",
       "75%   1,365,123,186.7500 1,370,163,600.0000 1,365,444,075.0000   \n",
       "max   1,381,171,266.0000 1,418,860,800.0000 1,381,171,529.0000   \n",
       "\n",
       "             event_start  fb_published          gts  has_analytics  \\\n",
       "count        13,044.0000   13,044.0000  13,044.0000    13,044.0000   \n",
       "mean  1,350,544,896.4811        0.1378   2,481.6796         0.0800   \n",
       "std      23,451,327.6057        0.3447   9,471.3123         0.2712   \n",
       "min   1,273,089,600.0000        0.0000       0.0000         0.0000   \n",
       "25%   1,334,061,900.0000        0.0000     124.5100         0.0000   \n",
       "50%   1,355,510,700.0000        0.0000     438.6750         0.0000   \n",
       "75%   1,370,047,050.0000        0.0000   1,540.8900         0.0000   \n",
       "max   1,418,850,000.0000        1.0000 306,293.9300         1.0000   \n",
       "\n",
       "       has_header    has_logo  name_length   num_order  num_payouts  \\\n",
       "count  8,409.0000 13,044.0000  13,044.0000 13,044.0000  13,044.0000   \n",
       "mean       0.2103      0.8615      42.7846     30.3382      37.0414   \n",
       "std        0.4075      0.3454      22.5672     99.0070     130.7762   \n",
       "min        0.0000      0.0000       0.0000      0.0000       0.0000   \n",
       "25%        0.0000      1.0000      27.0000      3.0000       0.0000   \n",
       "50%        0.0000      1.0000      39.0000      9.0000       3.0000   \n",
       "75%        0.0000      1.0000      54.0000     25.0000      16.0000   \n",
       "max        1.0000      1.0000     254.0000  2,000.0000   1,858.0000   \n",
       "\n",
       "           object_id  org_facebook  org_twitter  sale_duration  \\\n",
       "count    13,044.0000   13,040.0000  13,040.0000    13,007.0000   \n",
       "mean  4,514,622.6189        8.6332       4.6880        49.8276   \n",
       "std   1,959,377.3010       11.9836       6.1264        53.3786   \n",
       "min     379,603.0000        0.0000       0.0000      -143.0000   \n",
       "25%   2,877,048.5000        0.0000       0.0000        19.0000   \n",
       "50%   4,589,996.0000        0.0000       0.0000        35.0000   \n",
       "75%   6,035,103.5000       15.0000      11.0000        62.0000   \n",
       "max   8,671,713.0000       91.0000      34.0000       848.0000   \n",
       "\n",
       "       sale_duration2    show_map    user_age       user_created   user_type  \\\n",
       "count     13,044.0000 13,044.0000 13,044.0000        13,044.0000 13,044.0000   \n",
       "mean          53.9502      0.8529    402.6831 1,311,081,741.2213      2.8193   \n",
       "std           58.6919      0.3542    417.5086    40,539,046.3767      1.6143   \n",
       "min          -86.0000      0.0000      0.0000 1,011,210,442.0000      1.0000   \n",
       "25%           20.0000      1.0000     37.0000 1,284,578,098.7500      3.0000   \n",
       "50%           37.0000      1.0000    293.0000 1,313,805,994.0000      3.0000   \n",
       "75%           67.0000      1.0000    640.0000 1,343,315,642.0000      3.0000   \n",
       "max          848.0000      1.0000  3,794.0000 1,380,115,338.0000    103.0000   \n",
       "\n",
       "       venue_latitude  venue_longitude  \n",
       "count     12,338.0000      12,338.0000  \n",
       "mean          35.1658         -60.6931  \n",
       "std           20.4019          66.9928  \n",
       "min          -45.0452        -159.3902  \n",
       "25%           34.0397         -97.7140  \n",
       "50%           39.9819         -79.7493  \n",
       "75%           44.6423          -6.2552  \n",
       "max           64.8440         176.1695  "
      ]
     },
     "execution_count": 128,
     "metadata": {},
     "output_type": "execute_result"
    }
   ],
   "source": [
    "not_frauds.describe()"
   ]
  },
  {
   "cell_type": "code",
   "execution_count": 126,
   "metadata": {
    "scrolled": true
   },
   "outputs": [
    {
     "data": {
      "text/html": [
       "<div>\n",
       "<style scoped>\n",
       "    .dataframe tbody tr th:only-of-type {\n",
       "        vertical-align: middle;\n",
       "    }\n",
       "\n",
       "    .dataframe tbody tr th {\n",
       "        vertical-align: top;\n",
       "    }\n",
       "\n",
       "    .dataframe thead th {\n",
       "        text-align: right;\n",
       "    }\n",
       "</style>\n",
       "<table border=\"1\" class=\"dataframe\">\n",
       "  <thead>\n",
       "    <tr style=\"text-align: right;\">\n",
       "      <th></th>\n",
       "      <th>approx_payout_date</th>\n",
       "      <th>body_length</th>\n",
       "      <th>channels</th>\n",
       "      <th>delivery_method</th>\n",
       "      <th>event_created</th>\n",
       "      <th>event_end</th>\n",
       "      <th>event_published</th>\n",
       "      <th>event_start</th>\n",
       "      <th>fb_published</th>\n",
       "      <th>gts</th>\n",
       "      <th>has_analytics</th>\n",
       "      <th>has_header</th>\n",
       "      <th>has_logo</th>\n",
       "      <th>name_length</th>\n",
       "      <th>num_order</th>\n",
       "      <th>num_payouts</th>\n",
       "      <th>object_id</th>\n",
       "      <th>org_facebook</th>\n",
       "      <th>org_twitter</th>\n",
       "      <th>sale_duration</th>\n",
       "      <th>sale_duration2</th>\n",
       "      <th>show_map</th>\n",
       "      <th>user_age</th>\n",
       "      <th>user_created</th>\n",
       "      <th>user_type</th>\n",
       "      <th>venue_latitude</th>\n",
       "      <th>venue_longitude</th>\n",
       "    </tr>\n",
       "  </thead>\n",
       "  <tbody>\n",
       "    <tr>\n",
       "      <th>count</th>\n",
       "      <td>1,293.0000</td>\n",
       "      <td>1,293.0000</td>\n",
       "      <td>1,293.0000</td>\n",
       "      <td>1,281.0000</td>\n",
       "      <td>1,293.0000</td>\n",
       "      <td>1,293.0000</td>\n",
       "      <td>1,199.0000</td>\n",
       "      <td>1,293.0000</td>\n",
       "      <td>1,293.0000</td>\n",
       "      <td>1,293.0000</td>\n",
       "      <td>1,293.0000</td>\n",
       "      <td>519.0000</td>\n",
       "      <td>1,293.0000</td>\n",
       "      <td>1,293.0000</td>\n",
       "      <td>1,293.0000</td>\n",
       "      <td>1,293.0000</td>\n",
       "      <td>1,293.0000</td>\n",
       "      <td>1,238.0000</td>\n",
       "      <td>1,238.0000</td>\n",
       "      <td>1,175.0000</td>\n",
       "      <td>1,293.0000</td>\n",
       "      <td>1,293.0000</td>\n",
       "      <td>1,293.0000</td>\n",
       "      <td>1,293.0000</td>\n",
       "      <td>1,293.0000</td>\n",
       "      <td>923.0000</td>\n",
       "      <td>923.0000</td>\n",
       "    </tr>\n",
       "    <tr>\n",
       "      <th>mean</th>\n",
       "      <td>1,347,687,343.1555</td>\n",
       "      <td>1,508.8863</td>\n",
       "      <td>4.1493</td>\n",
       "      <td>0.0734</td>\n",
       "      <td>1,345,333,444.0201</td>\n",
       "      <td>1,347,255,379.3503</td>\n",
       "      <td>1,318,542,205.9541</td>\n",
       "      <td>1,346,777,043.6195</td>\n",
       "      <td>0.0224</td>\n",
       "      <td>1,911.2144</td>\n",
       "      <td>0.0031</td>\n",
       "      <td>0.0694</td>\n",
       "      <td>0.6458</td>\n",
       "      <td>29.9753</td>\n",
       "      <td>4.5305</td>\n",
       "      <td>0.5824</td>\n",
       "      <td>4,700,036.1206</td>\n",
       "      <td>1.0355</td>\n",
       "      <td>0.2940</td>\n",
       "      <td>14.1260</td>\n",
       "      <td>16.5445</td>\n",
       "      <td>0.7564</td>\n",
       "      <td>87.1524</td>\n",
       "      <td>1,337,804,461.4145</td>\n",
       "      <td>1.6195</td>\n",
       "      <td>35.9699</td>\n",
       "      <td>-43.4136</td>\n",
       "    </tr>\n",
       "    <tr>\n",
       "      <th>std</th>\n",
       "      <td>29,103,378.1765</td>\n",
       "      <td>3,550.2999</td>\n",
       "      <td>4.1752</td>\n",
       "      <td>0.3176</td>\n",
       "      <td>28,683,362.1881</td>\n",
       "      <td>29,103,326.5778</td>\n",
       "      <td>190,250,636.5322</td>\n",
       "      <td>28,633,788.7280</td>\n",
       "      <td>0.1481</td>\n",
       "      <td>4,639.7862</td>\n",
       "      <td>0.0556</td>\n",
       "      <td>0.2543</td>\n",
       "      <td>0.4785</td>\n",
       "      <td>25.6918</td>\n",
       "      <td>9.6280</td>\n",
       "      <td>2.9022</td>\n",
       "      <td>2,247,116.5208</td>\n",
       "      <td>5.4799</td>\n",
       "      <td>1.9548</td>\n",
       "      <td>59.7704</td>\n",
       "      <td>58.8958</td>\n",
       "      <td>0.4294</td>\n",
       "      <td>306.3712</td>\n",
       "      <td>43,465,698.5582</td>\n",
       "      <td>1.0134</td>\n",
       "      <td>17.3958</td>\n",
       "      <td>58.3168</td>\n",
       "    </tr>\n",
       "    <tr>\n",
       "      <th>min</th>\n",
       "      <td>1,171,256,400.0000</td>\n",
       "      <td>0.0000</td>\n",
       "      <td>0.0000</td>\n",
       "      <td>0.0000</td>\n",
       "      <td>1,170,332,468.0000</td>\n",
       "      <td>1,170,824,400.0000</td>\n",
       "      <td>0.0000</td>\n",
       "      <td>1,170,819,000.0000</td>\n",
       "      <td>0.0000</td>\n",
       "      <td>0.0000</td>\n",
       "      <td>0.0000</td>\n",
       "      <td>0.0000</td>\n",
       "      <td>0.0000</td>\n",
       "      <td>0.0000</td>\n",
       "      <td>0.0000</td>\n",
       "      <td>0.0000</td>\n",
       "      <td>47,146.0000</td>\n",
       "      <td>0.0000</td>\n",
       "      <td>0.0000</td>\n",
       "      <td>-1,094.0000</td>\n",
       "      <td>-1,094.0000</td>\n",
       "      <td>0.0000</td>\n",
       "      <td>0.0000</td>\n",
       "      <td>1,146,260,369.0000</td>\n",
       "      <td>1.0000</td>\n",
       "      <td>-39.8808</td>\n",
       "      <td>-155.9648</td>\n",
       "    </tr>\n",
       "    <tr>\n",
       "      <th>25%</th>\n",
       "      <td>1,331,593,200.0000</td>\n",
       "      <td>0.0000</td>\n",
       "      <td>0.0000</td>\n",
       "      <td>0.0000</td>\n",
       "      <td>1,330,696,238.0000</td>\n",
       "      <td>1,331,164,800.0000</td>\n",
       "      <td>1,329,189,642.0000</td>\n",
       "      <td>1,331,100,000.0000</td>\n",
       "      <td>0.0000</td>\n",
       "      <td>2.6600</td>\n",
       "      <td>0.0000</td>\n",
       "      <td>0.0000</td>\n",
       "      <td>0.0000</td>\n",
       "      <td>14.0000</td>\n",
       "      <td>1.0000</td>\n",
       "      <td>0.0000</td>\n",
       "      <td>3,051,127.0000</td>\n",
       "      <td>0.0000</td>\n",
       "      <td>0.0000</td>\n",
       "      <td>1.0000</td>\n",
       "      <td>1.0000</td>\n",
       "      <td>1.0000</td>\n",
       "      <td>0.0000</td>\n",
       "      <td>1,324,251,348.0000</td>\n",
       "      <td>1.0000</td>\n",
       "      <td>30.2160</td>\n",
       "      <td>-83.0796</td>\n",
       "    </tr>\n",
       "    <tr>\n",
       "      <th>50%</th>\n",
       "      <td>1,351,933,200.0000</td>\n",
       "      <td>452.0000</td>\n",
       "      <td>5.0000</td>\n",
       "      <td>0.0000</td>\n",
       "      <td>1,349,842,667.0000</td>\n",
       "      <td>1,351,501,200.0000</td>\n",
       "      <td>1,348,685,689.0000</td>\n",
       "      <td>1,351,350,000.0000</td>\n",
       "      <td>0.0000</td>\n",
       "      <td>341.2800</td>\n",
       "      <td>0.0000</td>\n",
       "      <td>0.0000</td>\n",
       "      <td>1.0000</td>\n",
       "      <td>25.0000</td>\n",
       "      <td>2.0000</td>\n",
       "      <td>0.0000</td>\n",
       "      <td>4,539,872.0000</td>\n",
       "      <td>0.0000</td>\n",
       "      <td>0.0000</td>\n",
       "      <td>3.0000</td>\n",
       "      <td>4.0000</td>\n",
       "      <td>1.0000</td>\n",
       "      <td>0.0000</td>\n",
       "      <td>1,348,610,239.0000</td>\n",
       "      <td>1.0000</td>\n",
       "      <td>39.7684</td>\n",
       "      <td>-73.9837</td>\n",
       "    </tr>\n",
       "    <tr>\n",
       "      <th>75%</th>\n",
       "      <td>1,371,942,000.0000</td>\n",
       "      <td>1,669.0000</td>\n",
       "      <td>6.0000</td>\n",
       "      <td>0.0000</td>\n",
       "      <td>1,369,217,802.0000</td>\n",
       "      <td>1,371,510,000.0000</td>\n",
       "      <td>1,367,937,892.0000</td>\n",
       "      <td>1,370,592,000.0000</td>\n",
       "      <td>0.0000</td>\n",
       "      <td>1,643.8500</td>\n",
       "      <td>0.0000</td>\n",
       "      <td>0.0000</td>\n",
       "      <td>1.0000</td>\n",
       "      <td>38.0000</td>\n",
       "      <td>5.0000</td>\n",
       "      <td>0.0000</td>\n",
       "      <td>6,775,341.0000</td>\n",
       "      <td>0.0000</td>\n",
       "      <td>0.0000</td>\n",
       "      <td>10.0000</td>\n",
       "      <td>18.0000</td>\n",
       "      <td>1.0000</td>\n",
       "      <td>19.0000</td>\n",
       "      <td>1,367,355,898.0000</td>\n",
       "      <td>3.0000</td>\n",
       "      <td>51.4822</td>\n",
       "      <td>-0.1262</td>\n",
       "    </tr>\n",
       "    <tr>\n",
       "      <th>max</th>\n",
       "      <td>1,523,487,600.0000</td>\n",
       "      <td>54,648.0000</td>\n",
       "      <td>13.0000</td>\n",
       "      <td>3.0000</td>\n",
       "      <td>1,382,011,776.0000</td>\n",
       "      <td>1,523,055,600.0000</td>\n",
       "      <td>1,381,608,321.0000</td>\n",
       "      <td>1,387,832,400.0000</td>\n",
       "      <td>1.0000</td>\n",
       "      <td>61,242.6800</td>\n",
       "      <td>1.0000</td>\n",
       "      <td>1.0000</td>\n",
       "      <td>1.0000</td>\n",
       "      <td>253.0000</td>\n",
       "      <td>140.0000</td>\n",
       "      <td>29.0000</td>\n",
       "      <td>8,792,893.0000</td>\n",
       "      <td>76.0000</td>\n",
       "      <td>16.0000</td>\n",
       "      <td>980.0000</td>\n",
       "      <td>980.0000</td>\n",
       "      <td>1.0000</td>\n",
       "      <td>2,207.0000</td>\n",
       "      <td>1,381,542,918.0000</td>\n",
       "      <td>5.0000</td>\n",
       "      <td>61.2188</td>\n",
       "      <td>153.5757</td>\n",
       "    </tr>\n",
       "  </tbody>\n",
       "</table>\n",
       "</div>"
      ],
      "text/plain": [
       "       approx_payout_date  body_length   channels  delivery_method  \\\n",
       "count          1,293.0000   1,293.0000 1,293.0000       1,281.0000   \n",
       "mean   1,347,687,343.1555   1,508.8863     4.1493           0.0734   \n",
       "std       29,103,378.1765   3,550.2999     4.1752           0.3176   \n",
       "min    1,171,256,400.0000       0.0000     0.0000           0.0000   \n",
       "25%    1,331,593,200.0000       0.0000     0.0000           0.0000   \n",
       "50%    1,351,933,200.0000     452.0000     5.0000           0.0000   \n",
       "75%    1,371,942,000.0000   1,669.0000     6.0000           0.0000   \n",
       "max    1,523,487,600.0000  54,648.0000    13.0000           3.0000   \n",
       "\n",
       "           event_created          event_end    event_published  \\\n",
       "count         1,293.0000         1,293.0000         1,199.0000   \n",
       "mean  1,345,333,444.0201 1,347,255,379.3503 1,318,542,205.9541   \n",
       "std      28,683,362.1881    29,103,326.5778   190,250,636.5322   \n",
       "min   1,170,332,468.0000 1,170,824,400.0000             0.0000   \n",
       "25%   1,330,696,238.0000 1,331,164,800.0000 1,329,189,642.0000   \n",
       "50%   1,349,842,667.0000 1,351,501,200.0000 1,348,685,689.0000   \n",
       "75%   1,369,217,802.0000 1,371,510,000.0000 1,367,937,892.0000   \n",
       "max   1,382,011,776.0000 1,523,055,600.0000 1,381,608,321.0000   \n",
       "\n",
       "             event_start  fb_published         gts  has_analytics  has_header  \\\n",
       "count         1,293.0000    1,293.0000  1,293.0000     1,293.0000    519.0000   \n",
       "mean  1,346,777,043.6195        0.0224  1,911.2144         0.0031      0.0694   \n",
       "std      28,633,788.7280        0.1481  4,639.7862         0.0556      0.2543   \n",
       "min   1,170,819,000.0000        0.0000      0.0000         0.0000      0.0000   \n",
       "25%   1,331,100,000.0000        0.0000      2.6600         0.0000      0.0000   \n",
       "50%   1,351,350,000.0000        0.0000    341.2800         0.0000      0.0000   \n",
       "75%   1,370,592,000.0000        0.0000  1,643.8500         0.0000      0.0000   \n",
       "max   1,387,832,400.0000        1.0000 61,242.6800         1.0000      1.0000   \n",
       "\n",
       "        has_logo  name_length  num_order  num_payouts      object_id  \\\n",
       "count 1,293.0000   1,293.0000 1,293.0000   1,293.0000     1,293.0000   \n",
       "mean      0.6458      29.9753     4.5305       0.5824 4,700,036.1206   \n",
       "std       0.4785      25.6918     9.6280       2.9022 2,247,116.5208   \n",
       "min       0.0000       0.0000     0.0000       0.0000    47,146.0000   \n",
       "25%       0.0000      14.0000     1.0000       0.0000 3,051,127.0000   \n",
       "50%       1.0000      25.0000     2.0000       0.0000 4,539,872.0000   \n",
       "75%       1.0000      38.0000     5.0000       0.0000 6,775,341.0000   \n",
       "max       1.0000     253.0000   140.0000      29.0000 8,792,893.0000   \n",
       "\n",
       "       org_facebook  org_twitter  sale_duration  sale_duration2   show_map  \\\n",
       "count    1,238.0000   1,238.0000     1,175.0000      1,293.0000 1,293.0000   \n",
       "mean         1.0355       0.2940        14.1260         16.5445     0.7564   \n",
       "std          5.4799       1.9548        59.7704         58.8958     0.4294   \n",
       "min          0.0000       0.0000    -1,094.0000     -1,094.0000     0.0000   \n",
       "25%          0.0000       0.0000         1.0000          1.0000     1.0000   \n",
       "50%          0.0000       0.0000         3.0000          4.0000     1.0000   \n",
       "75%          0.0000       0.0000        10.0000         18.0000     1.0000   \n",
       "max         76.0000      16.0000       980.0000        980.0000     1.0000   \n",
       "\n",
       "        user_age       user_created  user_type  venue_latitude  \\\n",
       "count 1,293.0000         1,293.0000 1,293.0000        923.0000   \n",
       "mean     87.1524 1,337,804,461.4145     1.6195         35.9699   \n",
       "std     306.3712    43,465,698.5582     1.0134         17.3958   \n",
       "min       0.0000 1,146,260,369.0000     1.0000        -39.8808   \n",
       "25%       0.0000 1,324,251,348.0000     1.0000         30.2160   \n",
       "50%       0.0000 1,348,610,239.0000     1.0000         39.7684   \n",
       "75%      19.0000 1,367,355,898.0000     3.0000         51.4822   \n",
       "max   2,207.0000 1,381,542,918.0000     5.0000         61.2188   \n",
       "\n",
       "       venue_longitude  \n",
       "count         923.0000  \n",
       "mean          -43.4136  \n",
       "std            58.3168  \n",
       "min          -155.9648  \n",
       "25%           -83.0796  \n",
       "50%           -73.9837  \n",
       "75%            -0.1262  \n",
       "max           153.5757  "
      ]
     },
     "execution_count": 126,
     "metadata": {},
     "output_type": "execute_result"
    }
   ],
   "source": [
    "frauds.describe()"
   ]
  },
  {
   "cell_type": "code",
   "execution_count": 112,
   "metadata": {},
   "outputs": [
    {
     "data": {
      "image/png": "[encoded data removed]",
      "text/plain": [
       "<Figure size 576x396 with 1 Axes>"
      ]
     },
     "metadata": {},
     "output_type": "display_data"
    },
    {
     "name": "stderr",
     "output_type": "stream",
     "text": [
      "/usr/local/anaconda3/envs/py377/lib/python3.7/site-packages/sklearn/base.py:213: FutureWarning: From version 0.24, get_params will raise an AttributeError if a parameter cannot be retrieved as an instance attribute. Previously it would return None.\n",
      "  FutureWarning)\n"
     ]
    },
    {
     "data": {
      "text/plain": [
       "SilhouetteVisualizer(ax=<matplotlib.axes._subplots.AxesSubplot object at 0x7ff040eef850>,\n",
       "                     colors='yellowbrick', model=None)"
      ]
     },
     "execution_count": 112,
     "metadata": {},
     "output_type": "execute_result"
    }
   ],
   "source": [
    "from yellowbrick.cluster import silhouette_visualizer\n",
    "# Use the quick method and immediately show the figure\n",
    "silhouette_visualizer(km, all_desc_tfidf_matrix, colors='yellowbrick')"
   ]
  },
  {
   "cell_type": "code",
   "execution_count": 120,
   "metadata": {},
   "outputs": [
    {
     "data": {
      "image/png": "[encoded data removed]",
      "text/plain": [
       "<Figure size 576x396 with 2 Axes>"
      ]
     },
     "metadata": {},
     "output_type": "display_data"
    },
    {
     "name": "stderr",
     "output_type": "stream",
     "text": [
      "/usr/local/anaconda3/envs/py377/lib/python3.7/site-packages/sklearn/base.py:213: FutureWarning: From version 0.24, get_params will raise an AttributeError if a parameter cannot be retrieved as an instance attribute. Previously it would return None.\n",
      "  FutureWarning)\n"
     ]
    },
    {
     "data": {
      "text/plain": [
       "KElbowVisualizer(ax=<matplotlib.axes._subplots.AxesSubplot object at 0x7ff0b9104e90>,\n",
       "                 k=None, model=None)"
      ]
     },
     "execution_count": 120,
     "metadata": {},
     "output_type": "execute_result"
    }
   ],
   "source": [
    "from yellowbrick.cluster.elbow import kelbow_visualizer\n",
    "kelbow_visualizer(km, all_desc_tfidf_matrix, y=None, k=200, metric='distortion', timings=True, locate_elbow=True, show=True)"
   ]
  },
  {
   "cell_type": "code",
   "execution_count": 62,
   "metadata": {},
   "outputs": [],
   "source": [
    "frauds_desc = X[X['Fraud'] == True]"
   ]
  },
  {
   "cell_type": "code",
   "execution_count": 63,
   "metadata": {},
   "outputs": [
    {
     "name": "stdout",
     "output_type": "stream",
     "text": [
      "<class 'pandas.core.frame.DataFrame'>\n",
      "Int64Index: 1293 entries, 527017 to 5492990\n",
      "Data columns (total 2 columns):\n",
      " #   Column  Non-Null Count  Dtype \n",
      "---  ------  --------------  ----- \n",
      " 0   0       1293 non-null   object\n",
      " 1   Fraud   1293 non-null   bool  \n",
      "dtypes: bool(1), object(1)\n",
      "memory usage: 21.5+ KB\n"
     ]
    }
   ],
   "source": [
    "frauds_desc.info()"
   ]
  },
  {
   "cell_type": "code",
   "execution_count": 69,
   "metadata": {},
   "outputs": [
    {
     "data": {
      "text/plain": [
       "{0: 'et, 213, dial, 0400, 226, 465905, les, le, scheduled, la, 30pm, number, code, today, conference, du, live, des, pour, en',\n",
       " 1: 'braco, dec, earthtransformation, igniting, earth, inner, spark, 5th, transformation, seminars, 29, feb, 2010, additional, featuring, session, 2011, http, 28, annual',\n",
       " 2: 'course, new, training, business, people, seminar, free, help, world, marketing, music, live, come, learn, day, work, bar, time, club, information',\n",
       " 3: 'event, tickets, ticket, wine, time, 10, available, class, workshop, bring, help, night, food, limited, vip, minutes, emailed, 00, taste, fun',\n",
       " 4: 'party, dj, come, night, dance, tickets, best, club, vip, bottle, event, 10pm, dress, birthday, special, cheerful, hope, music, free, champagne'}"
      ]
     },
     "execution_count": 69,
     "metadata": {},
     "output_type": "execute_result"
    }
   ],
   "source": [
    "# do NLP on just fraud descriptions\n",
    "tfidf = TfidfVectorizer(stop_words='english', max_features=10_000, max_df=0.9)\n",
    "all_desc_tfidf_matrix = tfidf.fit_transform(frauds_desc[0])\n",
    "k = 5\n",
    "clust_names = ['', '', '']\n",
    "features = tfidf.get_feature_names()\n",
    "cluster_feats, km = run_kmeans(all_desc_tfidf_matrix, X, features, k)\n",
    "cluster_feats"
   ]
  },
  {
   "cell_type": "code",
   "execution_count": 70,
   "metadata": {},
   "outputs": [
    {
     "data": {
      "text/plain": [
       "{0: 'braco, dec, earthtransformation, igniting, earth, inner, spark, 5th, transformation, seminars, 29, feb, 2010, additional, featuring, session, 2011, http, 28, annual',\n",
       " 1: 'event, party, tickets, come, live, night, new, et, ticket, time, help, free, dj, music, club, course, today, conference, la, people'}"
      ]
     },
     "execution_count": 70,
     "metadata": {},
     "output_type": "execute_result"
    }
   ],
   "source": [
    "tfidf = TfidfVectorizer(stop_words='english', max_features=10_000, max_df=0.9)\n",
    "all_desc_tfidf_matrix = tfidf.fit_transform(frauds_desc[0])\n",
    "k = 2\n",
    "clust_names = ['', '', '']\n",
    "features = tfidf.get_feature_names()\n",
    "cluster_feats, km = run_kmeans(all_desc_tfidf_matrix, X, features, k)\n",
    "cluster_feats"
   ]
  },
  {
   "cell_type": "code",
   "execution_count": 71,
   "metadata": {},
   "outputs": [
    {
     "data": {
      "text/plain": [
       "{0: 'trainings, conference, researching, doen, nitty, gritty, people, prolific, 6yrs, cheap, improves, absolutely, everyday, incredible, technology, research, say, immediately, field, grow',\n",
       " 1: 'braco, dec, earthtransformation, igniting, earth, inner, spark, 5th, transformation, seminars, 29, feb, 2010, additional, featuring, session, 2011, http, 28, annual',\n",
       " 2: 'event, party, tickets, come, night, time, ticket, dj, music, new, course, live, la, help, join, people, best, class, day, dance',\n",
       " 3: 'justin, bieber, tour, dates, usher, years, eventful, likes, talent, singing, songs, videos, latest, share, young, concerning, cyrus, timberlake, corners, starred',\n",
       " 4: 'dial, 213, 226, 0400, 465905, scheduled, 30pm, number, et, today, code, conference, live, entertainments, enrichment, ensemble, enrollments, enrollment, enroll, enthusiasts',\n",
       " 5: 'sign, leg, positioned, ups, placed, 30th, travel, december, 1st, power, 9pm, friday, company, class, et, vip, club, time, entertainments, enroll',\n",
       " 6: 'die, europa, miss, sie, und, africa, der, im, haben, das, para, que, dürfen, uns, um, von, es, den, berlin, schicken',\n",
       " 7: 'makeup, color, eye, foundation, contouring, blush, colors, based, application, face, class, oil, create, use, certificate, theory, water, times, concealer, shapes',\n",
       " 8: 'new, updates, teach, techniques, free, ensure, ensuite, ensembles, ensemble, enrollments, enrollment, œuvres, ent, enroll, enrichment, enrich, enquête, enquiries, enormously, ennobles',\n",
       " 9: 'seminar, artist, art, materials, issues, artists, success, prints, galleries, gallery, emerging, covered, career, resources, arts, designed, marketing, shows, including, information',\n",
       " 10: 'free, prizes, boa, lacc, parkingparking, memb, minutesef, trophies, medals, soda, pizza, 85, disney, rounds, cookie, streets, 80, rest, game, street',\n",
       " 11: 'wine, taste, wines, better, help, look, food, aromas, chocolate, stuff, interesting, certain, test, wish, got, match, understanding, matching, booking, page',\n",
       " 12: 'services, support, time, event, enrollment, ensure, ensuite, ensembles, ensemble, enrollments, œuvres, enjoyed, enrichment, enrich, enquête, enquiries, enormously, ennobles, enlighten, enjoyment',\n",
       " 13: 'modification, workshop, documents, loan, optional, ticket, yes, mortgage, participants, attend, note, auction, statements, lender, ins, transferrable, specialist, pending, sale, letter',\n",
       " 14: 'folks, palm, mr, baby, grown, gardens, grow, sexy, 27, biggest, school, white, line, concert, dance, work, day, party, enrollment, enroll',\n",
       " 15: 'blitz, eastern, 0400, 226, 213, dial, 465905, times, scheduled, 30pm, number, today, code, conference, live, entertainment, entertaining, enquête, entire, enrich',\n",
       " 16: 'bar, club, enrollment, ent, ensures, ensure, ensuite, ensembles, ensemble, enrollments, œuvres, enjoying, enrichment, enrich, enquête, enquiries, enormously, ennobles, enlighten, enroll',\n",
       " 17: 'springsteen, bruce, tickets, uk, 2013, elizabeth, moderate, queen, restrictive, default, 30th, 4040, olympic, 7283, 020, premierevents, aspx, calling, costs, fans',\n",
       " 18: 'garments, reisa, crafternoon, landfill, individualised, dalston, gaggle, fash, festivalette, rooftop, ended, fashions, clothes, mash, djing, curious, craft, boot, transform, customising',\n",
       " 19: 'kash, performing, doors, service, bottle, dj, drip, alto, footwear, simpkins, 260, clyde, capitol, kashkonceptsresolution, kashkoncepts, cookz, illusions, arie, 415, kafani'}"
      ]
     },
     "execution_count": 71,
     "metadata": {},
     "output_type": "execute_result"
    }
   ],
   "source": [
    "tfidf = TfidfVectorizer(stop_words='english', max_features=10_000, max_df=0.9)\n",
    "all_desc_tfidf_matrix = tfidf.fit_transform(frauds_desc[0])\n",
    "k = 20\n",
    "clust_names = ['', '', '']\n",
    "features = tfidf.get_feature_names()\n",
    "cluster_feats, km = run_kmeans(all_desc_tfidf_matrix, data, features, k)\n",
    "cluster_feats"
   ]
  },
  {
   "cell_type": "code",
   "execution_count": 80,
   "metadata": {},
   "outputs": [],
   "source": [
    "# test if can assign each row a cluster id\n",
    "def run_kmeans_assign_clust(X, df, features, k):\n",
    "    '''\n",
    "    accepts a TFIDF object (X), original df, features, and k (int)\n",
    "    runs k means, gets top 20 cluster features, calcs % most common in each\n",
    "    returns these as two dictionaries\n",
    "    '''\n",
    "    kmeans = KMeans(k)\n",
    "    kmeans.fit(X)\n",
    "    top_centroids = kmeans.cluster_centers_.argsort()[:, -1:-21:-1]\n",
    "    cluster_feats = {}\n",
    "    for num, centroid in enumerate(top_centroids):\n",
    "        cluster_feats[num] = ', '.join(features[i] for i in centroid)\n",
    "    # get the cluster assigned to each row (site\n",
    "    assigned_cluster = kmeans.fit_transform(X).argmin(axis=1)\n",
    "    \n",
    "#     return cluster_feats, kmeans\n",
    "\n",
    "    # save in dict\n",
    "    cluster_cats = {}\n",
    "\n",
    "    for i in range(kmeans.n_clusters):\n",
    "        cluster = np.arange(0, X.shape[0])[assigned_cluster == i]\n",
    "        categories = df.iloc[cluster]['Fraud']\n",
    "        most_common = Counter(categories).most_common()\n",
    "#         print(cluster)\n",
    "        cluster_cats[i] = {}\n",
    "        for j in range(len(most_common)):\n",
    "            cluster_cats[i].update({most_common[j][0]: most_common[j][1]})\n",
    "    return cluster_cats, cluster_feats"
   ]
  },
  {
   "cell_type": "code",
   "execution_count": 92,
   "metadata": {},
   "outputs": [],
   "source": [
    "tfidf = TfidfVectorizer(stop_words='english', max_features=10_000, max_df=0.9)\n",
    "all_desc_tfidf_matrix = tfidf.fit_transform(X[0])\n",
    "k = 2\n",
    "features = tfidf.get_feature_names()"
   ]
  },
  {
   "cell_type": "code",
   "execution_count": 93,
   "metadata": {},
   "outputs": [],
   "source": [
    "cluster_cats, cluster_feats = run_kmeans_assign_clust(all_desc_tfidf_matrix, X, features, k)"
   ]
  },
  {
   "cell_type": "code",
   "execution_count": 94,
   "metadata": {},
   "outputs": [
    {
     "data": {
      "text/plain": [
       "{0: {False: 8703, True: 1114}, 1: {False: 4341, True: 179}}"
      ]
     },
     "execution_count": 94,
     "metadata": {},
     "output_type": "execute_result"
    }
   ],
   "source": [
    "cluster_cats"
   ]
  },
  {
   "cell_type": "code",
   "execution_count": 95,
   "metadata": {},
   "outputs": [
    {
     "data": {
      "text/plain": [
       "{0: {False: 143, True: 41},\n",
       " 1: {False: 4872, True: 808},\n",
       " 2: {False: 1234, True: 32},\n",
       " 3: {False: 3469, True: 278},\n",
       " 4: {False: 3326, True: 134}}"
      ]
     },
     "execution_count": 95,
     "metadata": {},
     "output_type": "execute_result"
    }
   ],
   "source": [
    "cluster_cats, cluster_feats = run_kmeans_assign_clust(all_desc_tfidf_matrix, X, features, 5)\n",
    "cluster_cats"
   ]
  },
  {
   "cell_type": "code",
   "execution_count": 96,
   "metadata": {},
   "outputs": [
    {
     "data": {
      "text/html": [
       "<div>\n",
       "<style scoped>\n",
       "    .dataframe tbody tr th:only-of-type {\n",
       "        vertical-align: middle;\n",
       "    }\n",
       "\n",
       "    .dataframe tbody tr th {\n",
       "        vertical-align: top;\n",
       "    }\n",
       "\n",
       "    .dataframe thead th {\n",
       "        text-align: right;\n",
       "    }\n",
       "</style>\n",
       "<table border=\"1\" class=\"dataframe\">\n",
       "  <thead>\n",
       "    <tr style=\"text-align: right;\">\n",
       "      <th></th>\n",
       "      <th>0</th>\n",
       "      <th>Fraud</th>\n",
       "    </tr>\n",
       "  </thead>\n",
       "  <tbody>\n",
       "    <tr>\n",
       "      <th>527017</th>\n",
       "      <td>\\n \\nParty Starz Entertaintment &amp; Diverse Inte...</td>\n",
       "      <td>True</td>\n",
       "    </tr>\n",
       "    <tr>\n",
       "      <th>786878</th>\n",
       "      <td>Join us for a quick, one-night, community-buil...</td>\n",
       "      <td>False</td>\n",
       "    </tr>\n",
       "    <tr>\n",
       "      <th>787337</th>\n",
       "      <td>Teacher Training on the Desired Results Develo...</td>\n",
       "      <td>False</td>\n",
       "    </tr>\n",
       "    <tr>\n",
       "      <th>885645</th>\n",
       "      <td>Affiliations are now due in respect of the 201...</td>\n",
       "      <td>False</td>\n",
       "    </tr>\n",
       "    <tr>\n",
       "      <th>1114349</th>\n",
       "      <td>Writers and filmmakers need to understand thei...</td>\n",
       "      <td>False</td>\n",
       "    </tr>\n",
       "  </tbody>\n",
       "</table>\n",
       "</div>"
      ],
      "text/plain": [
       "                                                         0  Fraud\n",
       "527017   \\n \\nParty Starz Entertaintment & Diverse Inte...   True\n",
       "786878   Join us for a quick, one-night, community-buil...  False\n",
       "787337   Teacher Training on the Desired Results Develo...  False\n",
       "885645   Affiliations are now due in respect of the 201...  False\n",
       "1114349  Writers and filmmakers need to understand thei...  False"
      ]
     },
     "execution_count": 96,
     "metadata": {},
     "output_type": "execute_result"
    }
   ],
   "source": [
    "X.head()"
   ]
  },
  {
   "cell_type": "code",
   "execution_count": 107,
   "metadata": {},
   "outputs": [
    {
     "name": "stdout",
     "output_type": "stream",
     "text": [
      "cluster 0:\n"
     ]
    },
    {
     "ename": "KeyError",
     "evalue": "6218",
     "output_type": "error",
     "traceback": [
      "\u001b[0;31m--------------------------------------------------------------------\u001b[0m",
      "\u001b[0;31mKeyError\u001b[0m                           Traceback (most recent call last)",
      "\u001b[0;32m/usr/local/anaconda3/envs/py377/lib/python3.7/site-packages/pandas/core/indexes/base.py\u001b[0m in \u001b[0;36mget_loc\u001b[0;34m(self, key, method, tolerance)\u001b[0m\n\u001b[1;32m   2645\u001b[0m             \u001b[0;32mtry\u001b[0m\u001b[0;34m:\u001b[0m\u001b[0;34m\u001b[0m\u001b[0;34m\u001b[0m\u001b[0m\n\u001b[0;32m-> 2646\u001b[0;31m                 \u001b[0;32mreturn\u001b[0m \u001b[0mself\u001b[0m\u001b[0;34m.\u001b[0m\u001b[0m_engine\u001b[0m\u001b[0;34m.\u001b[0m\u001b[0mget_loc\u001b[0m\u001b[0;34m(\u001b[0m\u001b[0mkey\u001b[0m\u001b[0;34m)\u001b[0m\u001b[0;34m\u001b[0m\u001b[0;34m\u001b[0m\u001b[0m\n\u001b[0m\u001b[1;32m   2647\u001b[0m             \u001b[0;32mexcept\u001b[0m \u001b[0mKeyError\u001b[0m\u001b[0;34m:\u001b[0m\u001b[0;34m\u001b[0m\u001b[0;34m\u001b[0m\u001b[0m\n",
      "\u001b[0;32mpandas/_libs/index.pyx\u001b[0m in \u001b[0;36mpandas._libs.index.IndexEngine.get_loc\u001b[0;34m()\u001b[0m\n",
      "\u001b[0;32mpandas/_libs/index.pyx\u001b[0m in \u001b[0;36mpandas._libs.index.IndexEngine.get_loc\u001b[0;34m()\u001b[0m\n",
      "\u001b[0;32mpandas/_libs/hashtable_class_helper.pxi\u001b[0m in \u001b[0;36mpandas._libs.hashtable.Int64HashTable.get_item\u001b[0;34m()\u001b[0m\n",
      "\u001b[0;32mpandas/_libs/hashtable_class_helper.pxi\u001b[0m in \u001b[0;36mpandas._libs.hashtable.Int64HashTable.get_item\u001b[0;34m()\u001b[0m\n",
      "\u001b[0;31mKeyError\u001b[0m: 6218",
      "\nDuring handling of the above exception, another exception occurred:\n",
      "\u001b[0;31mKeyError\u001b[0m                           Traceback (most recent call last)",
      "\u001b[0;32m<ipython-input-107-d309b4fc21e4>\u001b[0m in \u001b[0;36m<module>\u001b[0;34m\u001b[0m\n\u001b[1;32m     10\u001b[0m     \u001b[0mprint\u001b[0m\u001b[0;34m(\u001b[0m\u001b[0;34mf\"cluster {i}:\"\u001b[0m\u001b[0;34m)\u001b[0m\u001b[0;34m\u001b[0m\u001b[0;34m\u001b[0m\u001b[0m\n\u001b[1;32m     11\u001b[0m     \u001b[0;32mfor\u001b[0m \u001b[0marticle\u001b[0m \u001b[0;32min\u001b[0m \u001b[0msample_articles\u001b[0m\u001b[0;34m:\u001b[0m\u001b[0;34m\u001b[0m\u001b[0;34m\u001b[0m\u001b[0m\n\u001b[0;32m---> 12\u001b[0;31m         \u001b[0mprint\u001b[0m\u001b[0;34m(\u001b[0m\u001b[0;34mf\"    {X.loc[article][0]}\"\u001b[0m\u001b[0;34m)\u001b[0m\u001b[0;34m\u001b[0m\u001b[0;34m\u001b[0m\u001b[0m\n\u001b[0m",
      "\u001b[0;32m/usr/local/anaconda3/envs/py377/lib/python3.7/site-packages/pandas/core/indexing.py\u001b[0m in \u001b[0;36m__getitem__\u001b[0;34m(self, key)\u001b[0m\n\u001b[1;32m   1766\u001b[0m \u001b[0;34m\u001b[0m\u001b[0m\n\u001b[1;32m   1767\u001b[0m             \u001b[0mmaybe_callable\u001b[0m \u001b[0;34m=\u001b[0m \u001b[0mcom\u001b[0m\u001b[0;34m.\u001b[0m\u001b[0mapply_if_callable\u001b[0m\u001b[0;34m(\u001b[0m\u001b[0mkey\u001b[0m\u001b[0;34m,\u001b[0m \u001b[0mself\u001b[0m\u001b[0;34m.\u001b[0m\u001b[0mobj\u001b[0m\u001b[0;34m)\u001b[0m\u001b[0;34m\u001b[0m\u001b[0;34m\u001b[0m\u001b[0m\n\u001b[0;32m-> 1768\u001b[0;31m             \u001b[0;32mreturn\u001b[0m \u001b[0mself\u001b[0m\u001b[0;34m.\u001b[0m\u001b[0m_getitem_axis\u001b[0m\u001b[0;34m(\u001b[0m\u001b[0mmaybe_callable\u001b[0m\u001b[0;34m,\u001b[0m \u001b[0maxis\u001b[0m\u001b[0;34m=\u001b[0m\u001b[0maxis\u001b[0m\u001b[0;34m)\u001b[0m\u001b[0;34m\u001b[0m\u001b[0;34m\u001b[0m\u001b[0m\n\u001b[0m\u001b[1;32m   1769\u001b[0m \u001b[0;34m\u001b[0m\u001b[0m\n\u001b[1;32m   1770\u001b[0m     \u001b[0;32mdef\u001b[0m \u001b[0m_is_scalar_access\u001b[0m\u001b[0;34m(\u001b[0m\u001b[0mself\u001b[0m\u001b[0;34m,\u001b[0m \u001b[0mkey\u001b[0m\u001b[0;34m:\u001b[0m \u001b[0mTuple\u001b[0m\u001b[0;34m)\u001b[0m\u001b[0;34m:\u001b[0m\u001b[0;34m\u001b[0m\u001b[0;34m\u001b[0m\u001b[0m\n",
      "\u001b[0;32m/usr/local/anaconda3/envs/py377/lib/python3.7/site-packages/pandas/core/indexing.py\u001b[0m in \u001b[0;36m_getitem_axis\u001b[0;34m(self, key, axis)\u001b[0m\n\u001b[1;32m   1963\u001b[0m         \u001b[0;31m# fall thru to straight lookup\u001b[0m\u001b[0;34m\u001b[0m\u001b[0;34m\u001b[0m\u001b[0;34m\u001b[0m\u001b[0m\n\u001b[1;32m   1964\u001b[0m         \u001b[0mself\u001b[0m\u001b[0;34m.\u001b[0m\u001b[0m_validate_key\u001b[0m\u001b[0;34m(\u001b[0m\u001b[0mkey\u001b[0m\u001b[0;34m,\u001b[0m \u001b[0maxis\u001b[0m\u001b[0;34m)\u001b[0m\u001b[0;34m\u001b[0m\u001b[0;34m\u001b[0m\u001b[0m\n\u001b[0;32m-> 1965\u001b[0;31m         \u001b[0;32mreturn\u001b[0m \u001b[0mself\u001b[0m\u001b[0;34m.\u001b[0m\u001b[0m_get_label\u001b[0m\u001b[0;34m(\u001b[0m\u001b[0mkey\u001b[0m\u001b[0;34m,\u001b[0m \u001b[0maxis\u001b[0m\u001b[0;34m=\u001b[0m\u001b[0maxis\u001b[0m\u001b[0;34m)\u001b[0m\u001b[0;34m\u001b[0m\u001b[0;34m\u001b[0m\u001b[0m\n\u001b[0m\u001b[1;32m   1966\u001b[0m \u001b[0;34m\u001b[0m\u001b[0m\n\u001b[1;32m   1967\u001b[0m \u001b[0;34m\u001b[0m\u001b[0m\n",
      "\u001b[0;32m/usr/local/anaconda3/envs/py377/lib/python3.7/site-packages/pandas/core/indexing.py\u001b[0m in \u001b[0;36m_get_label\u001b[0;34m(self, label, axis)\u001b[0m\n\u001b[1;32m    623\u001b[0m             \u001b[0;32mraise\u001b[0m \u001b[0mIndexingError\u001b[0m\u001b[0;34m(\u001b[0m\u001b[0;34m\"no slices here, handle elsewhere\"\u001b[0m\u001b[0;34m)\u001b[0m\u001b[0;34m\u001b[0m\u001b[0;34m\u001b[0m\u001b[0m\n\u001b[1;32m    624\u001b[0m \u001b[0;34m\u001b[0m\u001b[0m\n\u001b[0;32m--> 625\u001b[0;31m         \u001b[0;32mreturn\u001b[0m \u001b[0mself\u001b[0m\u001b[0;34m.\u001b[0m\u001b[0mobj\u001b[0m\u001b[0;34m.\u001b[0m\u001b[0m_xs\u001b[0m\u001b[0;34m(\u001b[0m\u001b[0mlabel\u001b[0m\u001b[0;34m,\u001b[0m \u001b[0maxis\u001b[0m\u001b[0;34m=\u001b[0m\u001b[0maxis\u001b[0m\u001b[0;34m)\u001b[0m\u001b[0;34m\u001b[0m\u001b[0;34m\u001b[0m\u001b[0m\n\u001b[0m\u001b[1;32m    626\u001b[0m \u001b[0;34m\u001b[0m\u001b[0m\n\u001b[1;32m    627\u001b[0m     \u001b[0;32mdef\u001b[0m \u001b[0m_get_loc\u001b[0m\u001b[0;34m(\u001b[0m\u001b[0mself\u001b[0m\u001b[0;34m,\u001b[0m \u001b[0mkey\u001b[0m\u001b[0;34m:\u001b[0m \u001b[0mint\u001b[0m\u001b[0;34m,\u001b[0m \u001b[0maxis\u001b[0m\u001b[0;34m:\u001b[0m \u001b[0mint\u001b[0m\u001b[0;34m)\u001b[0m\u001b[0;34m:\u001b[0m\u001b[0;34m\u001b[0m\u001b[0;34m\u001b[0m\u001b[0m\n",
      "\u001b[0;32m/usr/local/anaconda3/envs/py377/lib/python3.7/site-packages/pandas/core/generic.py\u001b[0m in \u001b[0;36mxs\u001b[0;34m(self, key, axis, level, drop_level)\u001b[0m\n\u001b[1;32m   3535\u001b[0m             \u001b[0mloc\u001b[0m\u001b[0;34m,\u001b[0m \u001b[0mnew_index\u001b[0m \u001b[0;34m=\u001b[0m \u001b[0mself\u001b[0m\u001b[0;34m.\u001b[0m\u001b[0mindex\u001b[0m\u001b[0;34m.\u001b[0m\u001b[0mget_loc_level\u001b[0m\u001b[0;34m(\u001b[0m\u001b[0mkey\u001b[0m\u001b[0;34m,\u001b[0m \u001b[0mdrop_level\u001b[0m\u001b[0;34m=\u001b[0m\u001b[0mdrop_level\u001b[0m\u001b[0;34m)\u001b[0m\u001b[0;34m\u001b[0m\u001b[0;34m\u001b[0m\u001b[0m\n\u001b[1;32m   3536\u001b[0m         \u001b[0;32melse\u001b[0m\u001b[0;34m:\u001b[0m\u001b[0;34m\u001b[0m\u001b[0;34m\u001b[0m\u001b[0m\n\u001b[0;32m-> 3537\u001b[0;31m             \u001b[0mloc\u001b[0m \u001b[0;34m=\u001b[0m \u001b[0mself\u001b[0m\u001b[0;34m.\u001b[0m\u001b[0mindex\u001b[0m\u001b[0;34m.\u001b[0m\u001b[0mget_loc\u001b[0m\u001b[0;34m(\u001b[0m\u001b[0mkey\u001b[0m\u001b[0;34m)\u001b[0m\u001b[0;34m\u001b[0m\u001b[0;34m\u001b[0m\u001b[0m\n\u001b[0m\u001b[1;32m   3538\u001b[0m \u001b[0;34m\u001b[0m\u001b[0m\n\u001b[1;32m   3539\u001b[0m             \u001b[0;32mif\u001b[0m \u001b[0misinstance\u001b[0m\u001b[0;34m(\u001b[0m\u001b[0mloc\u001b[0m\u001b[0;34m,\u001b[0m \u001b[0mnp\u001b[0m\u001b[0;34m.\u001b[0m\u001b[0mndarray\u001b[0m\u001b[0;34m)\u001b[0m\u001b[0;34m:\u001b[0m\u001b[0;34m\u001b[0m\u001b[0;34m\u001b[0m\u001b[0m\n",
      "\u001b[0;32m/usr/local/anaconda3/envs/py377/lib/python3.7/site-packages/pandas/core/indexes/base.py\u001b[0m in \u001b[0;36mget_loc\u001b[0;34m(self, key, method, tolerance)\u001b[0m\n\u001b[1;32m   2646\u001b[0m                 \u001b[0;32mreturn\u001b[0m \u001b[0mself\u001b[0m\u001b[0;34m.\u001b[0m\u001b[0m_engine\u001b[0m\u001b[0;34m.\u001b[0m\u001b[0mget_loc\u001b[0m\u001b[0;34m(\u001b[0m\u001b[0mkey\u001b[0m\u001b[0;34m)\u001b[0m\u001b[0;34m\u001b[0m\u001b[0;34m\u001b[0m\u001b[0m\n\u001b[1;32m   2647\u001b[0m             \u001b[0;32mexcept\u001b[0m \u001b[0mKeyError\u001b[0m\u001b[0;34m:\u001b[0m\u001b[0;34m\u001b[0m\u001b[0;34m\u001b[0m\u001b[0m\n\u001b[0;32m-> 2648\u001b[0;31m                 \u001b[0;32mreturn\u001b[0m \u001b[0mself\u001b[0m\u001b[0;34m.\u001b[0m\u001b[0m_engine\u001b[0m\u001b[0;34m.\u001b[0m\u001b[0mget_loc\u001b[0m\u001b[0;34m(\u001b[0m\u001b[0mself\u001b[0m\u001b[0;34m.\u001b[0m\u001b[0m_maybe_cast_indexer\u001b[0m\u001b[0;34m(\u001b[0m\u001b[0mkey\u001b[0m\u001b[0;34m)\u001b[0m\u001b[0;34m)\u001b[0m\u001b[0;34m\u001b[0m\u001b[0;34m\u001b[0m\u001b[0m\n\u001b[0m\u001b[1;32m   2649\u001b[0m         \u001b[0mindexer\u001b[0m \u001b[0;34m=\u001b[0m \u001b[0mself\u001b[0m\u001b[0;34m.\u001b[0m\u001b[0mget_indexer\u001b[0m\u001b[0;34m(\u001b[0m\u001b[0;34m[\u001b[0m\u001b[0mkey\u001b[0m\u001b[0;34m]\u001b[0m\u001b[0;34m,\u001b[0m \u001b[0mmethod\u001b[0m\u001b[0;34m=\u001b[0m\u001b[0mmethod\u001b[0m\u001b[0;34m,\u001b[0m \u001b[0mtolerance\u001b[0m\u001b[0;34m=\u001b[0m\u001b[0mtolerance\u001b[0m\u001b[0;34m)\u001b[0m\u001b[0;34m\u001b[0m\u001b[0;34m\u001b[0m\u001b[0m\n\u001b[1;32m   2650\u001b[0m         \u001b[0;32mif\u001b[0m \u001b[0mindexer\u001b[0m\u001b[0;34m.\u001b[0m\u001b[0mndim\u001b[0m \u001b[0;34m>\u001b[0m \u001b[0;36m1\u001b[0m \u001b[0;32mor\u001b[0m \u001b[0mindexer\u001b[0m\u001b[0;34m.\u001b[0m\u001b[0msize\u001b[0m \u001b[0;34m>\u001b[0m \u001b[0;36m1\u001b[0m\u001b[0;34m:\u001b[0m\u001b[0;34m\u001b[0m\u001b[0;34m\u001b[0m\u001b[0m\n",
      "\u001b[0;32mpandas/_libs/index.pyx\u001b[0m in \u001b[0;36mpandas._libs.index.IndexEngine.get_loc\u001b[0;34m()\u001b[0m\n",
      "\u001b[0;32mpandas/_libs/index.pyx\u001b[0m in \u001b[0;36mpandas._libs.index.IndexEngine.get_loc\u001b[0;34m()\u001b[0m\n",
      "\u001b[0;32mpandas/_libs/hashtable_class_helper.pxi\u001b[0m in \u001b[0;36mpandas._libs.hashtable.Int64HashTable.get_item\u001b[0;34m()\u001b[0m\n",
      "\u001b[0;32mpandas/_libs/hashtable_class_helper.pxi\u001b[0m in \u001b[0;36mpandas._libs.hashtable.Int64HashTable.get_item\u001b[0;34m()\u001b[0m\n",
      "\u001b[0;31mKeyError\u001b[0m: 6218"
     ]
    }
   ],
   "source": [
    "kmeans = KMeans(10)\n",
    "tfidf = TfidfVectorizer(stop_words='english', max_features=10_000, max_df=0.9)\n",
    "all_desc_tfidf_matrix = tfidf.fit_transform(X[0])\n",
    "kmeans.fit(all_desc_tfidf_matrix)\n",
    "\n",
    "assigned_cluster = kmeans.transform(all_desc_tfidf_matrix).argmin(axis=1)\n",
    "for i in range(kmeans.n_clusters):\n",
    "    cluster = np.arange(0, all_desc_tfidf_matrix.shape[0])[assigned_cluster==i]\n",
    "    sample_articles = np.random.choice(cluster, 1, replace=False)\n",
    "    print(f\"cluster {i}:\")\n",
    "    for article in sample_articles:\n",
    "        print(f\"    {X.loc[article][0]}\")"
   ]
  },
  {
   "cell_type": "code",
   "execution_count": null,
   "metadata": {},
   "outputs": [],
   "source": [
    "# or do NMF?"
   ]
  }
 ],
 "metadata": {
  "kernelspec": {
   "display_name": "Python 3",
   "language": "python",
   "name": "python3"
  },
  "language_info": {
   "codemirror_mode": {
    "name": "ipython",
    "version": 3
   },
   "file_extension": ".py",
   "mimetype": "text/x-python",
   "name": "python",
   "nbconvert_exporter": "python",
   "pygments_lexer": "ipython3",
   "version": "3.7.7"
  }
 },
 "nbformat": 4,
 "nbformat_minor": 4
}
