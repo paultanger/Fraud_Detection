{
 "cells": [
  {
   "cell_type": "code",
   "execution_count": 23,
   "metadata": {},
   "outputs": [],
   "source": [
    "import pandas as pd \n",
    "import numpy as np\n",
    "import matplotlib.pyplot as plt\n",
    "from sklearn.ensemble import RandomForestClassifier\n",
    "from sklearn.linear_model import LogisticRegression\n",
    "from sklearn.neighbors import KNeighborsClassifier\n",
    "from sklearn.model_selection import train_test_split\n",
    "from sklearn import metrics\n",
    "from sklearn.metrics import confusion_matrix, roc_auc_score, roc_curve, f1_score, plot_roc_curve"
   ]
  },
  {
   "cell_type": "code",
   "execution_count": 24,
   "metadata": {},
   "outputs": [],
   "source": [
    "from sklearn.tree import DecisionTreeClassifier\n",
    "from sklearn.model_selection import cross_val_score\n",
    "from sklearn.model_selection import train_test_split\n",
    "from sklearn.metrics import f1_score"
   ]
  },
  {
   "cell_type": "code",
   "execution_count": 25,
   "metadata": {},
   "outputs": [],
   "source": [
    "X = pd.read_csv(\"../data/number_df.csv\").drop('Unnamed: 0', axis = 1)\n",
    "y = pd.read_csv(\"../data/number_target.csv\").drop('Unnamed: 0', axis = 1)"
   ]
  },
  {
   "cell_type": "code",
   "execution_count": 26,
   "metadata": {},
   "outputs": [
    {
     "data": {
      "text/plain": [
       "Index(['approx_payout_date', 'body_length', 'channels', 'delivery_method',\n",
       "       'event_created', 'event_end', 'event_published', 'event_start',\n",
       "       'fb_published', 'gts', 'has_analytics', 'has_header', 'has_logo',\n",
       "       'name_length', 'num_order', 'num_payouts', 'object_id', 'org_facebook',\n",
       "       'org_twitter', 'sale_duration', 'sale_duration2', 'show_map',\n",
       "       'user_age', 'user_created', 'user_type', 'venue_latitude',\n",
       "       'venue_longitude'],\n",
       "      dtype='object')"
      ]
     },
     "execution_count": 26,
     "metadata": {},
     "output_type": "execute_result"
    }
   ],
   "source": [
    "X.columns"
   ]
  },
  {
   "cell_type": "code",
   "execution_count": 27,
   "metadata": {},
   "outputs": [],
   "source": [
    "X_train, X_test, y_train, y_test = train_test_split(X, y, test_size=0.25, random_state=42, stratify = y)"
   ]
  },
  {
   "cell_type": "code",
   "execution_count": 28,
   "metadata": {},
   "outputs": [
    {
     "data": {
      "text/plain": [
       "0.7815384615384615"
      ]
     },
     "execution_count": 28,
     "metadata": {},
     "output_type": "execute_result"
    }
   ],
   "source": [
    "dt = DecisionTreeClassifier()\n",
    "dt.fit(X_train, y_train)\n",
    "y_hat = dt.predict(X_test)\n",
    "dt.score(X_test, y_test)\n",
    "#want close to 1\n",
    "f1_score(y_test, y_hat)"
   ]
  },
  {
   "cell_type": "markdown",
   "metadata": {},
   "source": [
    "Bring in Ticket DF and merge"
   ]
  },
  {
   "cell_type": "code",
   "execution_count": 29,
   "metadata": {},
   "outputs": [],
   "source": [
    "ticket = pd.read_csv('../data/ticket_type_df.csv').drop('Unnamed: 0', axis = 1)\n",
    "ticket.fillna(0, inplace = True)\n",
    "ticket = ticket.replace(np.inf, 110)"
   ]
  },
  {
   "cell_type": "code",
   "execution_count": 30,
   "metadata": {},
   "outputs": [],
   "source": [
    "X = pd.concat([X, ticket],axis=1)"
   ]
  },
  {
   "cell_type": "code",
   "execution_count": 31,
   "metadata": {},
   "outputs": [
    {
     "data": {
      "text/html": [
       "<div>\n",
       "<style scoped>\n",
       "    .dataframe tbody tr th:only-of-type {\n",
       "        vertical-align: middle;\n",
       "    }\n",
       "\n",
       "    .dataframe tbody tr th {\n",
       "        vertical-align: top;\n",
       "    }\n",
       "\n",
       "    .dataframe thead th {\n",
       "        text-align: right;\n",
       "    }\n",
       "</style>\n",
       "<table border=\"1\" class=\"dataframe\">\n",
       "  <thead>\n",
       "    <tr style=\"text-align: right;\">\n",
       "      <th></th>\n",
       "      <th>approx_payout_date</th>\n",
       "      <th>body_length</th>\n",
       "      <th>channels</th>\n",
       "      <th>delivery_method</th>\n",
       "      <th>event_created</th>\n",
       "      <th>event_end</th>\n",
       "      <th>event_published</th>\n",
       "      <th>event_start</th>\n",
       "      <th>fb_published</th>\n",
       "      <th>gts</th>\n",
       "      <th>...</th>\n",
       "      <th>show_map</th>\n",
       "      <th>user_age</th>\n",
       "      <th>user_created</th>\n",
       "      <th>user_type</th>\n",
       "      <th>venue_latitude</th>\n",
       "      <th>venue_longitude</th>\n",
       "      <th>cost</th>\n",
       "      <th>quantity</th>\n",
       "      <th>num_sold</th>\n",
       "      <th>percent_sold</th>\n",
       "    </tr>\n",
       "  </thead>\n",
       "  <tbody>\n",
       "    <tr>\n",
       "      <th>0</th>\n",
       "      <td>1266062400</td>\n",
       "      <td>3852</td>\n",
       "      <td>5</td>\n",
       "      <td>0.0</td>\n",
       "      <td>1262739706</td>\n",
       "      <td>1265630400</td>\n",
       "      <td>1.263110e+09</td>\n",
       "      <td>1265594400</td>\n",
       "      <td>0</td>\n",
       "      <td>0.00</td>\n",
       "      <td>...</td>\n",
       "      <td>1</td>\n",
       "      <td>36</td>\n",
       "      <td>1259613950</td>\n",
       "      <td>1</td>\n",
       "      <td>25.777471</td>\n",
       "      <td>-80.133433</td>\n",
       "      <td>208.333333</td>\n",
       "      <td>920.0</td>\n",
       "      <td>0.0</td>\n",
       "      <td>0.000000</td>\n",
       "    </tr>\n",
       "    <tr>\n",
       "      <th>1</th>\n",
       "      <td>1296720000</td>\n",
       "      <td>3499</td>\n",
       "      <td>0</td>\n",
       "      <td>1.0</td>\n",
       "      <td>1293832670</td>\n",
       "      <td>1296288000</td>\n",
       "      <td>1.293833e+09</td>\n",
       "      <td>1296255600</td>\n",
       "      <td>0</td>\n",
       "      <td>868.02</td>\n",
       "      <td>...</td>\n",
       "      <td>0</td>\n",
       "      <td>149</td>\n",
       "      <td>1280942776</td>\n",
       "      <td>3</td>\n",
       "      <td>32.776566</td>\n",
       "      <td>-79.930922</td>\n",
       "      <td>35.000000</td>\n",
       "      <td>100.0</td>\n",
       "      <td>25.0</td>\n",
       "      <td>0.250000</td>\n",
       "    </tr>\n",
       "    <tr>\n",
       "      <th>2</th>\n",
       "      <td>1296172800</td>\n",
       "      <td>2601</td>\n",
       "      <td>8</td>\n",
       "      <td>1.0</td>\n",
       "      <td>1291090956</td>\n",
       "      <td>1295740800</td>\n",
       "      <td>1.291092e+09</td>\n",
       "      <td>1295713800</td>\n",
       "      <td>0</td>\n",
       "      <td>3500.00</td>\n",
       "      <td>...</td>\n",
       "      <td>0</td>\n",
       "      <td>214</td>\n",
       "      <td>1272559388</td>\n",
       "      <td>3</td>\n",
       "      <td>33.944201</td>\n",
       "      <td>-118.080419</td>\n",
       "      <td>93.510000</td>\n",
       "      <td>48.0</td>\n",
       "      <td>48.0</td>\n",
       "      <td>1.000000</td>\n",
       "    </tr>\n",
       "    <tr>\n",
       "      <th>3</th>\n",
       "      <td>1388966400</td>\n",
       "      <td>12347</td>\n",
       "      <td>6</td>\n",
       "      <td>1.0</td>\n",
       "      <td>1360681570</td>\n",
       "      <td>1388534400</td>\n",
       "      <td>1.360683e+09</td>\n",
       "      <td>1360702800</td>\n",
       "      <td>0</td>\n",
       "      <td>1167.35</td>\n",
       "      <td>...</td>\n",
       "      <td>0</td>\n",
       "      <td>889</td>\n",
       "      <td>1283870102</td>\n",
       "      <td>3</td>\n",
       "      <td>0.000000</td>\n",
       "      <td>0.000000</td>\n",
       "      <td>13.666667</td>\n",
       "      <td>30000.0</td>\n",
       "      <td>58.0</td>\n",
       "      <td>0.001933</td>\n",
       "    </tr>\n",
       "    <tr>\n",
       "      <th>4</th>\n",
       "      <td>1297900800</td>\n",
       "      <td>2417</td>\n",
       "      <td>11</td>\n",
       "      <td>0.0</td>\n",
       "      <td>1291994666</td>\n",
       "      <td>1297468800</td>\n",
       "      <td>1.291995e+09</td>\n",
       "      <td>1297440000</td>\n",
       "      <td>1</td>\n",
       "      <td>2313.15</td>\n",
       "      <td>...</td>\n",
       "      <td>0</td>\n",
       "      <td>35</td>\n",
       "      <td>1288984065</td>\n",
       "      <td>3</td>\n",
       "      <td>42.353848</td>\n",
       "      <td>-71.044276</td>\n",
       "      <td>101.750000</td>\n",
       "      <td>264.0</td>\n",
       "      <td>39.0</td>\n",
       "      <td>0.147727</td>\n",
       "    </tr>\n",
       "    <tr>\n",
       "      <th>...</th>\n",
       "      <td>...</td>\n",
       "      <td>...</td>\n",
       "      <td>...</td>\n",
       "      <td>...</td>\n",
       "      <td>...</td>\n",
       "      <td>...</td>\n",
       "      <td>...</td>\n",
       "      <td>...</td>\n",
       "      <td>...</td>\n",
       "      <td>...</td>\n",
       "      <td>...</td>\n",
       "      <td>...</td>\n",
       "      <td>...</td>\n",
       "      <td>...</td>\n",
       "      <td>...</td>\n",
       "      <td>...</td>\n",
       "      <td>...</td>\n",
       "      <td>...</td>\n",
       "      <td>...</td>\n",
       "      <td>...</td>\n",
       "      <td>...</td>\n",
       "    </tr>\n",
       "    <tr>\n",
       "      <th>14332</th>\n",
       "      <td>1361689200</td>\n",
       "      <td>667</td>\n",
       "      <td>0</td>\n",
       "      <td>0.0</td>\n",
       "      <td>1360297993</td>\n",
       "      <td>1361257200</td>\n",
       "      <td>1.360299e+09</td>\n",
       "      <td>1361232000</td>\n",
       "      <td>0</td>\n",
       "      <td>0.00</td>\n",
       "      <td>...</td>\n",
       "      <td>1</td>\n",
       "      <td>0</td>\n",
       "      <td>1360297993</td>\n",
       "      <td>1</td>\n",
       "      <td>39.373780</td>\n",
       "      <td>-76.629921</td>\n",
       "      <td>45.000000</td>\n",
       "      <td>400.0</td>\n",
       "      <td>0.0</td>\n",
       "      <td>0.000000</td>\n",
       "    </tr>\n",
       "    <tr>\n",
       "      <th>14333</th>\n",
       "      <td>1365566400</td>\n",
       "      <td>5812</td>\n",
       "      <td>5</td>\n",
       "      <td>1.0</td>\n",
       "      <td>1360367042</td>\n",
       "      <td>1365134400</td>\n",
       "      <td>1.360370e+09</td>\n",
       "      <td>1365123600</td>\n",
       "      <td>0</td>\n",
       "      <td>9626.30</td>\n",
       "      <td>...</td>\n",
       "      <td>1</td>\n",
       "      <td>1374</td>\n",
       "      <td>1241625346</td>\n",
       "      <td>4</td>\n",
       "      <td>32.778906</td>\n",
       "      <td>-117.209791</td>\n",
       "      <td>43.250000</td>\n",
       "      <td>3256.0</td>\n",
       "      <td>628.0</td>\n",
       "      <td>0.192875</td>\n",
       "    </tr>\n",
       "    <tr>\n",
       "      <th>14334</th>\n",
       "      <td>1368781200</td>\n",
       "      <td>557</td>\n",
       "      <td>13</td>\n",
       "      <td>0.0</td>\n",
       "      <td>1360600330</td>\n",
       "      <td>1368349200</td>\n",
       "      <td>1.361337e+09</td>\n",
       "      <td>1368327600</td>\n",
       "      <td>1</td>\n",
       "      <td>22.09</td>\n",
       "      <td>...</td>\n",
       "      <td>1</td>\n",
       "      <td>84</td>\n",
       "      <td>1353386971</td>\n",
       "      <td>4</td>\n",
       "      <td>30.041819</td>\n",
       "      <td>-89.957130</td>\n",
       "      <td>42.000000</td>\n",
       "      <td>148.0</td>\n",
       "      <td>1.0</td>\n",
       "      <td>0.006757</td>\n",
       "    </tr>\n",
       "    <tr>\n",
       "      <th>14335</th>\n",
       "      <td>1361361600</td>\n",
       "      <td>10873</td>\n",
       "      <td>8</td>\n",
       "      <td>0.0</td>\n",
       "      <td>1360376285</td>\n",
       "      <td>1360929600</td>\n",
       "      <td>1.360377e+09</td>\n",
       "      <td>1360890000</td>\n",
       "      <td>0</td>\n",
       "      <td>170.00</td>\n",
       "      <td>...</td>\n",
       "      <td>1</td>\n",
       "      <td>812</td>\n",
       "      <td>1290204991</td>\n",
       "      <td>3</td>\n",
       "      <td>40.862284</td>\n",
       "      <td>-73.911363</td>\n",
       "      <td>79.330000</td>\n",
       "      <td>100.0</td>\n",
       "      <td>0.0</td>\n",
       "      <td>0.000000</td>\n",
       "    </tr>\n",
       "    <tr>\n",
       "      <th>14336</th>\n",
       "      <td>1363316400</td>\n",
       "      <td>0</td>\n",
       "      <td>0</td>\n",
       "      <td>0.0</td>\n",
       "      <td>1360686846</td>\n",
       "      <td>1362888000</td>\n",
       "      <td>1.360687e+09</td>\n",
       "      <td>1360740600</td>\n",
       "      <td>0</td>\n",
       "      <td>901.04</td>\n",
       "      <td>...</td>\n",
       "      <td>1</td>\n",
       "      <td>0</td>\n",
       "      <td>1360686845</td>\n",
       "      <td>1</td>\n",
       "      <td>51.460131</td>\n",
       "      <td>-2.586503</td>\n",
       "      <td>283.000000</td>\n",
       "      <td>20.0</td>\n",
       "      <td>0.0</td>\n",
       "      <td>0.000000</td>\n",
       "    </tr>\n",
       "  </tbody>\n",
       "</table>\n",
       "<p>14337 rows × 31 columns</p>\n",
       "</div>"
      ],
      "text/plain": [
       "       approx_payout_date  body_length  channels  delivery_method  \\\n",
       "0              1266062400         3852         5              0.0   \n",
       "1              1296720000         3499         0              1.0   \n",
       "2              1296172800         2601         8              1.0   \n",
       "3              1388966400        12347         6              1.0   \n",
       "4              1297900800         2417        11              0.0   \n",
       "...                   ...          ...       ...              ...   \n",
       "14332          1361689200          667         0              0.0   \n",
       "14333          1365566400         5812         5              1.0   \n",
       "14334          1368781200          557        13              0.0   \n",
       "14335          1361361600        10873         8              0.0   \n",
       "14336          1363316400            0         0              0.0   \n",
       "\n",
       "       event_created   event_end  event_published  event_start  fb_published  \\\n",
       "0         1262739706  1265630400     1.263110e+09   1265594400             0   \n",
       "1         1293832670  1296288000     1.293833e+09   1296255600             0   \n",
       "2         1291090956  1295740800     1.291092e+09   1295713800             0   \n",
       "3         1360681570  1388534400     1.360683e+09   1360702800             0   \n",
       "4         1291994666  1297468800     1.291995e+09   1297440000             1   \n",
       "...              ...         ...              ...          ...           ...   \n",
       "14332     1360297993  1361257200     1.360299e+09   1361232000             0   \n",
       "14333     1360367042  1365134400     1.360370e+09   1365123600             0   \n",
       "14334     1360600330  1368349200     1.361337e+09   1368327600             1   \n",
       "14335     1360376285  1360929600     1.360377e+09   1360890000             0   \n",
       "14336     1360686846  1362888000     1.360687e+09   1360740600             0   \n",
       "\n",
       "           gts  ...  show_map  user_age  user_created  user_type  \\\n",
       "0         0.00  ...         1        36    1259613950          1   \n",
       "1       868.02  ...         0       149    1280942776          3   \n",
       "2      3500.00  ...         0       214    1272559388          3   \n",
       "3      1167.35  ...         0       889    1283870102          3   \n",
       "4      2313.15  ...         0        35    1288984065          3   \n",
       "...        ...  ...       ...       ...           ...        ...   \n",
       "14332     0.00  ...         1         0    1360297993          1   \n",
       "14333  9626.30  ...         1      1374    1241625346          4   \n",
       "14334    22.09  ...         1        84    1353386971          4   \n",
       "14335   170.00  ...         1       812    1290204991          3   \n",
       "14336   901.04  ...         1         0    1360686845          1   \n",
       "\n",
       "       venue_latitude  venue_longitude        cost  quantity  num_sold  \\\n",
       "0           25.777471       -80.133433  208.333333     920.0       0.0   \n",
       "1           32.776566       -79.930922   35.000000     100.0      25.0   \n",
       "2           33.944201      -118.080419   93.510000      48.0      48.0   \n",
       "3            0.000000         0.000000   13.666667   30000.0      58.0   \n",
       "4           42.353848       -71.044276  101.750000     264.0      39.0   \n",
       "...               ...              ...         ...       ...       ...   \n",
       "14332       39.373780       -76.629921   45.000000     400.0       0.0   \n",
       "14333       32.778906      -117.209791   43.250000    3256.0     628.0   \n",
       "14334       30.041819       -89.957130   42.000000     148.0       1.0   \n",
       "14335       40.862284       -73.911363   79.330000     100.0       0.0   \n",
       "14336       51.460131        -2.586503  283.000000      20.0       0.0   \n",
       "\n",
       "       percent_sold  \n",
       "0          0.000000  \n",
       "1          0.250000  \n",
       "2          1.000000  \n",
       "3          0.001933  \n",
       "4          0.147727  \n",
       "...             ...  \n",
       "14332      0.000000  \n",
       "14333      0.192875  \n",
       "14334      0.006757  \n",
       "14335      0.000000  \n",
       "14336      0.000000  \n",
       "\n",
       "[14337 rows x 31 columns]"
      ]
     },
     "execution_count": 31,
     "metadata": {},
     "output_type": "execute_result"
    }
   ],
   "source": [
    "X"
   ]
  },
  {
   "cell_type": "markdown",
   "metadata": {},
   "source": [
    "Random Forest with Weights"
   ]
  },
  {
   "cell_type": "code",
   "execution_count": 137,
   "metadata": {},
   "outputs": [],
   "source": [
    "def balance_work(y_train):\n",
    "    n1 = np.sum(y_train)\n",
    "    n2 = len(y_train) - n1\n",
    "    n_samples = n1 + n2\n",
    "    w1 = n_samples / (2 * n1)\n",
    "    w2 = n_samples / (2 * n2)\n",
    "    return w1, w2"
   ]
  },
  {
   "cell_type": "code",
   "execution_count": 138,
   "metadata": {},
   "outputs": [],
   "source": [
    "def Random_forest_model(X, y, num_trees, num_features):\n",
    "    X_train, X_test, y_train, y_test = train_test_split(X, y, test_size=0.25, random_state=42, stratify=y)\n",
    "    w1, w2 = balance_work(y_train)\n",
    "    rf_model = RandomForestClassifier(n_estimators = num_trees, max_features = num_features, class_weight={1: w1, 0: w2})\n",
    "    rf_model.fit(X_train, y_train.values.ravel())\n",
    "    y_predict = rf_model.predict(X_test)\n",
    "    score = rf_model.score(X_test,y_test)\n",
    "    return score, confusion_matrix(y_test, y_predict), f1_score(y_test, y_predict), rf_model\n",
    "rf_score2, rf_matrix2, f1_2, model2 = Random_forest_model(X, y, 50, 'sqrt')"
   ]
  },
  {
   "cell_type": "code",
   "execution_count": 139,
   "metadata": {},
   "outputs": [
    {
     "data": {
      "text/plain": [
       "0.9874476987447699"
      ]
     },
     "execution_count": 139,
     "metadata": {},
     "output_type": "execute_result"
    }
   ],
   "source": [
    "rf_score2"
   ]
  },
  {
   "cell_type": "code",
   "execution_count": 140,
   "metadata": {},
   "outputs": [
    {
     "data": {
      "text/plain": [
       "array([3255,    7,   38,  285])"
      ]
     },
     "execution_count": 140,
     "metadata": {},
     "output_type": "execute_result"
    }
   ],
   "source": [
    "rf_matrix2.ravel()"
   ]
  },
  {
   "cell_type": "code",
   "execution_count": 141,
   "metadata": {},
   "outputs": [
    {
     "data": {
      "text/plain": [
       "0.926829268292683"
      ]
     },
     "execution_count": 141,
     "metadata": {},
     "output_type": "execute_result"
    }
   ],
   "source": [
    "f1_2"
   ]
  },
  {
   "cell_type": "markdown",
   "metadata": {},
   "source": [
    "Oversample"
   ]
  },
  {
   "cell_type": "code",
   "execution_count": 32,
   "metadata": {},
   "outputs": [],
   "source": [
    "def div_count_pos_neg(X, y):\n",
    "    negatives, positives = y == 0, y == 1\n",
    "    negative_count, positive_count = np.sum(negatives), np.sum(positives)\n",
    "    X_positives, y_positives = X[positives], y[positives]\n",
    "    X_negatives, y_negatives = X[negatives], y[negatives]\n",
    "    return negative_count, positive_count, X_positives, \\\n",
    "           X_negatives, y_positives, y_negatives"
   ]
  },
  {
   "cell_type": "code",
   "execution_count": 33,
   "metadata": {},
   "outputs": [],
   "source": [
    "def oversample(X, y, tp):\n",
    "    \"\"\"Randomly choose positive observations from X & y, with replacement\n",
    "    to achieve the target proportion of positive to negative observations.\n",
    "\n",
    "    Parameters\n",
    "    ----------\n",
    "    X  : ndarray - 2D\n",
    "    y  : ndarray - 1D\n",
    "    tp : float - range [0, 1], target proportion of positive class observations\n",
    "\n",
    "    Returns\n",
    "    -------\n",
    "    X_undersampled : ndarray - 2D\n",
    "    y_undersampled : ndarray - 1D\n",
    "    \"\"\"\n",
    "#     if (0.5 < np.mean(y)).bool():\n",
    "#         return X, y\n",
    "    if 0.5 < np.mean(y):\n",
    "        return X, y\n",
    "    neg_count, pos_count, X_pos, X_neg, y_pos, y_neg = div_count_pos_neg(X, y)\n",
    "    positive_range = np.arange(pos_count)\n",
    "    positive_size = (tp * neg_count) / (1 - tp)\n",
    "    positive_idxs = np.random.choice(a=positive_range,\n",
    "                                     size=int(positive_size),\n",
    "                                     replace=True)\n",
    "    X_positive_oversampled = X_pos[positive_idxs]\n",
    "    y_positive_oversampled = y_pos[positive_idxs]\n",
    "    X_oversampled = np.vstack((X_positive_oversampled, X_neg))\n",
    "    y_oversampled = np.concatenate((y_positive_oversampled, y_neg))\n",
    "\n",
    "    return X_oversampled, y_oversampled"
   ]
  },
  {
   "cell_type": "code",
   "execution_count": 34,
   "metadata": {},
   "outputs": [],
   "source": [
    "x_o, y_o = oversample(X.values, np.ravel(y.values), 0.5)"
   ]
  },
  {
   "cell_type": "code",
   "execution_count": 35,
   "metadata": {},
   "outputs": [
    {
     "data": {
      "text/plain": [
       "((26088, 31), (26088,))"
      ]
     },
     "execution_count": 35,
     "metadata": {},
     "output_type": "execute_result"
    }
   ],
   "source": [
    "x_o.shape, y_o.shape"
   ]
  },
  {
   "cell_type": "code",
   "execution_count": 36,
   "metadata": {},
   "outputs": [],
   "source": [
    "def Random_forest_model(X, y, num_trees, num_features):\n",
    "    X_train, X_test, y_train, y_test = train_test_split(X, y, test_size=0.25, random_state=42, stratify=y)\n",
    "    rf_model = RandomForestClassifier(n_estimators = num_trees, max_features = num_features)\n",
    "    rf_model.fit(X_train, y_train)\n",
    "    y_predict = rf_model.predict(X_test)\n",
    "    score = rf_model.score(X_test,y_test)\n",
    "    return score, confusion_matrix(y_test, y_predict), f1_score(y_test, y_predict), rf_model\n",
    "rf_score3, rf_matrix3, f1_3, model3 = Random_forest_model(x_o, y_o, 50, 'sqrt')"
   ]
  },
  {
   "cell_type": "code",
   "execution_count": 37,
   "metadata": {},
   "outputs": [
    {
     "data": {
      "text/plain": [
       "0.997858017135863"
      ]
     },
     "execution_count": 37,
     "metadata": {},
     "output_type": "execute_result"
    }
   ],
   "source": [
    "f1_3"
   ]
  },
  {
   "cell_type": "code",
   "execution_count": 38,
   "metadata": {},
   "outputs": [
    {
     "data": {
      "text/plain": [
       "array([3247,   14,    0, 3261])"
      ]
     },
     "execution_count": 38,
     "metadata": {},
     "output_type": "execute_result"
    }
   ],
   "source": [
    "rf_matrix3.ravel()"
   ]
  },
  {
   "cell_type": "markdown",
   "metadata": {},
   "source": [
    "Smote Test"
   ]
  },
  {
   "cell_type": "code",
   "execution_count": 39,
   "metadata": {},
   "outputs": [],
   "source": [
    "def smote(X, y, tp, k=None):\n",
    "    \"\"\"Generates new observations from the positive (minority) class.\n",
    "    For details, see: https://www.jair.org/media/953/live-953-2037-jair.pdf\n",
    "\n",
    "\n",
    "    Parameters\n",
    "    ----------\n",
    "    X  : ndarray - 2D\n",
    "    y  : ndarray - 1D\n",
    "    tp : float - [0, 1], target proportion of positive class observations\n",
    "\n",
    "    Returns\n",
    "    -------\n",
    "    X_smoted : ndarray - 2D\n",
    "    y_smoted : ndarray - 1D\n",
    "    \"\"\"\n",
    "    if tp < float(np.mean(y)):\n",
    "        return X, y\n",
    "    if k is None:\n",
    "        k = int(len(X) ** 0.5)\n",
    "\n",
    "    neg_count, pos_count, X_pos, X_neg, y_pos, y_neg = div_count_pos_neg(X, y)\n",
    "    knn = KNeighborsClassifier(n_neighbors=k)\n",
    "    knn.fit(X_pos, y_pos)\n",
    "    neighbors = knn.kneighbors(return_distance=False)\n",
    "\n",
    "    positive_size = (tp * neg_count) / (1 - tp)\n",
    "    smote_num = int(positive_size - pos_count)\n",
    "\n",
    "    rand_idxs = np.random.randint(0, pos_count, size=smote_num)\n",
    "    rand_nghb_idxs = np.random.randint(0, k, size=smote_num)\n",
    "    rand_pcts = np.random.random((smote_num, X.shape[1]))\n",
    "    smotes = []\n",
    "    for r_idx, r_nghb_idx, r_pct in zip(rand_idxs, rand_nghb_idxs, rand_pcts):\n",
    "        rand_pos, rand_pos_neighbors = X_pos[r_idx], neighbors[r_idx]\n",
    "        rand_pos_neighbor = X_pos[rand_pos_neighbors[r_nghb_idx]]\n",
    "        rand_dir = rand_pos_neighbor - rand_pos\n",
    "        rand_change = rand_dir * r_pct\n",
    "        smoted_point = rand_pos + rand_change\n",
    "        smotes.append(smoted_point)\n",
    "\n",
    "    X_smoted = np.vstack((X, np.array(smotes)))\n",
    "    y_smoted = np.concatenate((y, np.ones((smote_num,))))\n",
    "    return X_smoted, y_smoted"
   ]
  },
  {
   "cell_type": "code",
   "execution_count": 40,
   "metadata": {},
   "outputs": [],
   "source": [
    "x_s, y_s = smote(X.values, np.ravel(y.values), 0.5)"
   ]
  },
  {
   "cell_type": "code",
   "execution_count": 42,
   "metadata": {},
   "outputs": [],
   "source": [
    "def Random_forest_model(X, y, num_trees, num_features):\n",
    "    X_train, X_test, y_train, y_test = train_test_split(X, y, test_size=0.25, random_state=42, stratify=y)\n",
    "    rf_model = RandomForestClassifier(n_estimators = num_trees, max_features = num_features)\n",
    "    rf_model.fit(X_train, y_train)\n",
    "    y_predict = rf_model.predict(X_test)\n",
    "    score = rf_model.score(X_test,y_test)\n",
    "    return score, confusion_matrix(y_test, y_predict), f1_score(y_test, y_predict), rf_model\n",
    "rf_score4, rf_matrix4, f1_4, model4 = Random_forest_model(x_s, y_s, 50, 'sqrt')"
   ]
  },
  {
   "cell_type": "code",
   "execution_count": 43,
   "metadata": {},
   "outputs": [
    {
     "data": {
      "text/plain": [
       "array([3234,   27,   28, 3233])"
      ]
     },
     "execution_count": 43,
     "metadata": {},
     "output_type": "execute_result"
    }
   ],
   "source": [
    "rf_matrix4.ravel()"
   ]
  },
  {
   "cell_type": "code",
   "execution_count": 44,
   "metadata": {},
   "outputs": [
    {
     "data": {
      "text/plain": [
       "0.9915657107805551"
      ]
     },
     "execution_count": 44,
     "metadata": {},
     "output_type": "execute_result"
    }
   ],
   "source": [
    "f1_4"
   ]
  },
  {
   "cell_type": "code",
   "execution_count": null,
   "metadata": {},
   "outputs": [],
   "source": []
  },
  {
   "cell_type": "code",
   "execution_count": null,
   "metadata": {},
   "outputs": [],
   "source": []
  },
  {
   "cell_type": "code",
   "execution_count": null,
   "metadata": {},
   "outputs": [],
   "source": []
  },
  {
   "cell_type": "code",
   "execution_count": null,
   "metadata": {},
   "outputs": [],
   "source": []
  },
  {
   "cell_type": "code",
   "execution_count": null,
   "metadata": {},
   "outputs": [],
   "source": []
  },
  {
   "cell_type": "code",
   "execution_count": null,
   "metadata": {},
   "outputs": [],
   "source": []
  },
  {
   "cell_type": "code",
   "execution_count": null,
   "metadata": {},
   "outputs": [],
   "source": []
  },
  {
   "cell_type": "code",
   "execution_count": null,
   "metadata": {},
   "outputs": [],
   "source": []
  },
  {
   "cell_type": "code",
   "execution_count": null,
   "metadata": {},
   "outputs": [],
   "source": []
  },
  {
   "cell_type": "code",
   "execution_count": null,
   "metadata": {},
   "outputs": [],
   "source": []
  },
  {
   "cell_type": "code",
   "execution_count": null,
   "metadata": {},
   "outputs": [],
   "source": []
  },
  {
   "cell_type": "code",
   "execution_count": null,
   "metadata": {},
   "outputs": [],
   "source": []
  },
  {
   "cell_type": "code",
   "execution_count": null,
   "metadata": {},
   "outputs": [],
   "source": []
  },
  {
   "cell_type": "code",
   "execution_count": null,
   "metadata": {},
   "outputs": [],
   "source": []
  },
  {
   "cell_type": "code",
   "execution_count": null,
   "metadata": {},
   "outputs": [],
   "source": []
  },
  {
   "cell_type": "code",
   "execution_count": null,
   "metadata": {},
   "outputs": [],
   "source": []
  },
  {
   "cell_type": "code",
   "execution_count": null,
   "metadata": {},
   "outputs": [],
   "source": []
  },
  {
   "cell_type": "code",
   "execution_count": null,
   "metadata": {},
   "outputs": [],
   "source": []
  },
  {
   "cell_type": "code",
   "execution_count": null,
   "metadata": {},
   "outputs": [],
   "source": []
  }
 ],
 "metadata": {
  "kernelspec": {
   "display_name": "Python 3",
   "language": "python",
   "name": "python3"
  },
  "language_info": {
   "codemirror_mode": {
    "name": "ipython",
    "version": 3
   },
   "file_extension": ".py",
   "mimetype": "text/x-python",
   "name": "python",
   "nbconvert_exporter": "python",
   "pygments_lexer": "ipython3",
   "version": "3.7.6"
  }
 },
 "nbformat": 4,
 "nbformat_minor": 4
}
