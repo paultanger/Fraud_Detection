{
 "cells": [
  {
   "cell_type": "code",
   "execution_count": 52,
   "metadata": {},
   "outputs": [],
   "source": [
    "import pandas as pd \n",
    "import numpy as np\n",
    "import matplotlib.pyplot as plt\n",
    "from sklearn.ensemble import RandomForestClassifier\n",
    "from sklearn.linear_model import LogisticRegression\n",
    "from sklearn.neighbors import KNeighborsClassifier\n",
    "from sklearn.model_selection import train_test_split\n",
    "from sklearn import metrics\n",
    "from sklearn.metrics import confusion_matrix, roc_auc_score, roc_curve, f1_score, plot_roc_curve"
   ]
  },
  {
   "cell_type": "code",
   "execution_count": 6,
   "metadata": {},
   "outputs": [],
   "source": [
    "X = pd.read_csv(\"../data/number_df.csv\").drop('Unnamed: 0', axis = 1)\n",
    "y = pd.read_csv(\"../data/number_target.csv\").drop('Unnamed: 0', axis = 1)"
   ]
  },
  {
   "cell_type": "code",
   "execution_count": null,
   "metadata": {},
   "outputs": [],
   "source": []
  },
  {
   "cell_type": "code",
   "execution_count": null,
   "metadata": {},
   "outputs": [],
   "source": []
  },
  {
   "cell_type": "code",
   "execution_count": null,
   "metadata": {},
   "outputs": [],
   "source": []
  },
  {
   "cell_type": "code",
   "execution_count": null,
   "metadata": {},
   "outputs": [],
   "source": []
  },
  {
   "cell_type": "code",
   "execution_count": null,
   "metadata": {},
   "outputs": [],
   "source": []
  },
  {
   "cell_type": "code",
   "execution_count": 23,
   "metadata": {},
   "outputs": [
    {
     "data": {
      "text/plain": [
       "Index(['approx_payout_date', 'body_length', 'channels', 'delivery_method',\n",
       "       'event_created', 'event_end', 'event_published', 'event_start',\n",
       "       'fb_published', 'gts', 'has_analytics', 'has_header', 'has_logo',\n",
       "       'name_length', 'num_order', 'num_payouts', 'object_id', 'org_facebook',\n",
       "       'org_twitter', 'sale_duration', 'sale_duration2', 'show_map',\n",
       "       'user_age', 'user_created', 'user_type', 'venue_latitude',\n",
       "       'venue_longitude'],\n",
       "      dtype='object')"
      ]
     },
     "execution_count": 23,
     "metadata": {},
     "output_type": "execute_result"
    }
   ],
   "source": [
    "X.columns"
   ]
  },
  {
   "cell_type": "code",
   "execution_count": 8,
   "metadata": {},
   "outputs": [
    {
     "data": {
      "text/html": [
       "<div>\n",
       "<style scoped>\n",
       "    .dataframe tbody tr th:only-of-type {\n",
       "        vertical-align: middle;\n",
       "    }\n",
       "\n",
       "    .dataframe tbody tr th {\n",
       "        vertical-align: top;\n",
       "    }\n",
       "\n",
       "    .dataframe thead th {\n",
       "        text-align: right;\n",
       "    }\n",
       "</style>\n",
       "<table border=\"1\" class=\"dataframe\">\n",
       "  <thead>\n",
       "    <tr style=\"text-align: right;\">\n",
       "      <th></th>\n",
       "      <th>Fraud</th>\n",
       "    </tr>\n",
       "  </thead>\n",
       "  <tbody>\n",
       "    <tr>\n",
       "      <th>0</th>\n",
       "      <td>True</td>\n",
       "    </tr>\n",
       "    <tr>\n",
       "      <th>1</th>\n",
       "      <td>False</td>\n",
       "    </tr>\n",
       "    <tr>\n",
       "      <th>2</th>\n",
       "      <td>False</td>\n",
       "    </tr>\n",
       "    <tr>\n",
       "      <th>3</th>\n",
       "      <td>False</td>\n",
       "    </tr>\n",
       "    <tr>\n",
       "      <th>4</th>\n",
       "      <td>False</td>\n",
       "    </tr>\n",
       "    <tr>\n",
       "      <th>...</th>\n",
       "      <td>...</td>\n",
       "    </tr>\n",
       "    <tr>\n",
       "      <th>14332</th>\n",
       "      <td>True</td>\n",
       "    </tr>\n",
       "    <tr>\n",
       "      <th>14333</th>\n",
       "      <td>False</td>\n",
       "    </tr>\n",
       "    <tr>\n",
       "      <th>14334</th>\n",
       "      <td>False</td>\n",
       "    </tr>\n",
       "    <tr>\n",
       "      <th>14335</th>\n",
       "      <td>False</td>\n",
       "    </tr>\n",
       "    <tr>\n",
       "      <th>14336</th>\n",
       "      <td>True</td>\n",
       "    </tr>\n",
       "  </tbody>\n",
       "</table>\n",
       "<p>14337 rows × 1 columns</p>\n",
       "</div>"
      ],
      "text/plain": [
       "       Fraud\n",
       "0       True\n",
       "1      False\n",
       "2      False\n",
       "3      False\n",
       "4      False\n",
       "...      ...\n",
       "14332   True\n",
       "14333  False\n",
       "14334  False\n",
       "14335  False\n",
       "14336   True\n",
       "\n",
       "[14337 rows x 1 columns]"
      ]
     },
     "execution_count": 8,
     "metadata": {},
     "output_type": "execute_result"
    }
   ],
   "source": [
    "y"
   ]
  },
  {
   "cell_type": "code",
   "execution_count": 18,
   "metadata": {},
   "outputs": [],
   "source": [
    "from sklearn.tree import DecisionTreeClassifier\n",
    "from sklearn.model_selection import cross_val_score\n",
    "from sklearn.model_selection import train_test_split\n",
    "from sklearn.metrics import f1_score"
   ]
  },
  {
   "cell_type": "code",
   "execution_count": 33,
   "metadata": {},
   "outputs": [],
   "source": [
    "X_train, X_test, y_train, y_test = train_test_split(X, y, test_size=0.25, random_state=42, stratify = y)"
   ]
  },
  {
   "cell_type": "code",
   "execution_count": 15,
   "metadata": {},
   "outputs": [
    {
     "data": {
      "text/plain": [
       "DecisionTreeClassifier(ccp_alpha=0.0, class_weight=None, criterion='gini',\n",
       "                       max_depth=None, max_features=None, max_leaf_nodes=None,\n",
       "                       min_impurity_decrease=0.0, min_impurity_split=None,\n",
       "                       min_samples_leaf=1, min_samples_split=2,\n",
       "                       min_weight_fraction_leaf=0.0, presort='deprecated',\n",
       "                       random_state=None, splitter='best')"
      ]
     },
     "execution_count": 15,
     "metadata": {},
     "output_type": "execute_result"
    }
   ],
   "source": [
    "dt = DecisionTreeClassifier()\n",
    "dt.fit(X_train, y_train)"
   ]
  },
  {
   "cell_type": "code",
   "execution_count": 16,
   "metadata": {},
   "outputs": [],
   "source": [
    "y_hat = dt.predict(X_test)"
   ]
  },
  {
   "cell_type": "code",
   "execution_count": 17,
   "metadata": {},
   "outputs": [
    {
     "data": {
      "text/plain": [
       "0.9562552831783601"
      ]
     },
     "execution_count": 17,
     "metadata": {},
     "output_type": "execute_result"
    }
   ],
   "source": [
    "dt.score(X_test, y_test)"
   ]
  },
  {
   "cell_type": "code",
   "execution_count": 22,
   "metadata": {},
   "outputs": [
    {
     "data": {
      "text/plain": [
       "0.7650397275822928"
      ]
     },
     "execution_count": 22,
     "metadata": {},
     "output_type": "execute_result"
    }
   ],
   "source": [
    "#want close to 1\n",
    "f1_score(y_test, y_hat)"
   ]
  },
  {
   "cell_type": "code",
   "execution_count": 27,
   "metadata": {},
   "outputs": [
    {
     "data": {
      "text/html": [
       "<div>\n",
       "<style scoped>\n",
       "    .dataframe tbody tr th:only-of-type {\n",
       "        vertical-align: middle;\n",
       "    }\n",
       "\n",
       "    .dataframe tbody tr th {\n",
       "        vertical-align: top;\n",
       "    }\n",
       "\n",
       "    .dataframe thead th {\n",
       "        text-align: right;\n",
       "    }\n",
       "</style>\n",
       "<table border=\"1\" class=\"dataframe\">\n",
       "  <thead>\n",
       "    <tr style=\"text-align: right;\">\n",
       "      <th></th>\n",
       "      <th>cost</th>\n",
       "      <th>quantity</th>\n",
       "      <th>num_sold</th>\n",
       "      <th>percent_sold</th>\n",
       "    </tr>\n",
       "  </thead>\n",
       "  <tbody>\n",
       "    <tr>\n",
       "      <th>0</th>\n",
       "      <td>208.333333</td>\n",
       "      <td>920.0</td>\n",
       "      <td>0.0</td>\n",
       "      <td>0.000000</td>\n",
       "    </tr>\n",
       "    <tr>\n",
       "      <th>1</th>\n",
       "      <td>35.000000</td>\n",
       "      <td>100.0</td>\n",
       "      <td>25.0</td>\n",
       "      <td>0.250000</td>\n",
       "    </tr>\n",
       "    <tr>\n",
       "      <th>2</th>\n",
       "      <td>93.510000</td>\n",
       "      <td>48.0</td>\n",
       "      <td>48.0</td>\n",
       "      <td>1.000000</td>\n",
       "    </tr>\n",
       "    <tr>\n",
       "      <th>3</th>\n",
       "      <td>13.666667</td>\n",
       "      <td>30000.0</td>\n",
       "      <td>58.0</td>\n",
       "      <td>0.001933</td>\n",
       "    </tr>\n",
       "    <tr>\n",
       "      <th>4</th>\n",
       "      <td>101.750000</td>\n",
       "      <td>264.0</td>\n",
       "      <td>39.0</td>\n",
       "      <td>0.147727</td>\n",
       "    </tr>\n",
       "    <tr>\n",
       "      <th>...</th>\n",
       "      <td>...</td>\n",
       "      <td>...</td>\n",
       "      <td>...</td>\n",
       "      <td>...</td>\n",
       "    </tr>\n",
       "    <tr>\n",
       "      <th>14332</th>\n",
       "      <td>45.000000</td>\n",
       "      <td>400.0</td>\n",
       "      <td>0.0</td>\n",
       "      <td>0.000000</td>\n",
       "    </tr>\n",
       "    <tr>\n",
       "      <th>14333</th>\n",
       "      <td>43.250000</td>\n",
       "      <td>3256.0</td>\n",
       "      <td>628.0</td>\n",
       "      <td>0.192875</td>\n",
       "    </tr>\n",
       "    <tr>\n",
       "      <th>14334</th>\n",
       "      <td>42.000000</td>\n",
       "      <td>148.0</td>\n",
       "      <td>1.0</td>\n",
       "      <td>0.006757</td>\n",
       "    </tr>\n",
       "    <tr>\n",
       "      <th>14335</th>\n",
       "      <td>79.330000</td>\n",
       "      <td>100.0</td>\n",
       "      <td>0.0</td>\n",
       "      <td>0.000000</td>\n",
       "    </tr>\n",
       "    <tr>\n",
       "      <th>14336</th>\n",
       "      <td>283.000000</td>\n",
       "      <td>20.0</td>\n",
       "      <td>0.0</td>\n",
       "      <td>0.000000</td>\n",
       "    </tr>\n",
       "  </tbody>\n",
       "</table>\n",
       "<p>14337 rows × 4 columns</p>\n",
       "</div>"
      ],
      "text/plain": [
       "             cost  quantity  num_sold  percent_sold\n",
       "0      208.333333     920.0       0.0      0.000000\n",
       "1       35.000000     100.0      25.0      0.250000\n",
       "2       93.510000      48.0      48.0      1.000000\n",
       "3       13.666667   30000.0      58.0      0.001933\n",
       "4      101.750000     264.0      39.0      0.147727\n",
       "...           ...       ...       ...           ...\n",
       "14332   45.000000     400.0       0.0      0.000000\n",
       "14333   43.250000    3256.0     628.0      0.192875\n",
       "14334   42.000000     148.0       1.0      0.006757\n",
       "14335   79.330000     100.0       0.0      0.000000\n",
       "14336  283.000000      20.0       0.0      0.000000\n",
       "\n",
       "[14337 rows x 4 columns]"
      ]
     },
     "execution_count": 27,
     "metadata": {},
     "output_type": "execute_result"
    }
   ],
   "source": [
    "ticket = pd.read_csv('../data/ticket_type_df.csv').drop('Unnamed: 0', axis = 1)\n",
    "ticket"
   ]
  },
  {
   "cell_type": "code",
   "execution_count": 29,
   "metadata": {},
   "outputs": [],
   "source": [
    "new_x = pd.concat([X, ticket],axis=1)"
   ]
  },
  {
   "cell_type": "code",
   "execution_count": null,
   "metadata": {},
   "outputs": [],
   "source": []
  },
  {
   "cell_type": "code",
   "execution_count": 34,
   "metadata": {},
   "outputs": [],
   "source": [
    "def balance_work(y_train):\n",
    "    n1 = np.sum(y_train)\n",
    "    n2 = len(y_train) - n1\n",
    "    n_samples = n1 + n2\n",
    "    w1 = n_samples / (2 * n1)\n",
    "    w2 = n_samples / (2 * n2)\n",
    "    return w1, w2"
   ]
  },
  {
   "cell_type": "code",
   "execution_count": 42,
   "metadata": {},
   "outputs": [],
   "source": [
    "def Random_forest_model(X, y, num_trees, num_features):\n",
    "    X_train, X_test, y_train, y_test = train_test_split(X, y, test_size=0.25, random_state=42, stratify=y)\n",
    "    w1, w2 = balance_work(y_train)\n",
    "    rf_model = RandomForestClassifier(n_estimators = num_trees, max_features = num_features, class_weight={1: w1, 0: w2})\n",
    "    rf_model.fit(X_train, y_train.values.ravel())\n",
    "    y_predict = rf_model.predict(X_test)\n",
    "    score = rf_model.score(X_test,y_test)\n",
    "    return score, confusion_matrix(y_test, y_predict), f1_score(y_test, y_predict), rf_model\n",
    "rf_score2, rf_matrix2, f1_2, model2 = Random_forest_model(X, y, 50, 'sqrt')"
   ]
  },
  {
   "cell_type": "code",
   "execution_count": 46,
   "metadata": {},
   "outputs": [
    {
     "data": {
      "text/plain": [
       "0.9765690376569037"
      ]
     },
     "execution_count": 46,
     "metadata": {},
     "output_type": "execute_result"
    }
   ],
   "source": [
    "rf_score2"
   ]
  },
  {
   "cell_type": "code",
   "execution_count": 49,
   "metadata": {},
   "outputs": [
    {
     "data": {
      "text/plain": [
       "array([3239,   23,   61,  262])"
      ]
     },
     "execution_count": 49,
     "metadata": {},
     "output_type": "execute_result"
    }
   ],
   "source": [
    "rf_matrix2.ravel()"
   ]
  },
  {
   "cell_type": "code",
   "execution_count": 48,
   "metadata": {},
   "outputs": [
    {
     "data": {
      "text/plain": [
       "0.861842105263158"
      ]
     },
     "execution_count": 48,
     "metadata": {},
     "output_type": "execute_result"
    }
   ],
   "source": [
    "f1_2"
   ]
  },
  {
   "cell_type": "code",
   "execution_count": 45,
   "metadata": {},
   "outputs": [],
   "source": []
  },
  {
   "cell_type": "code",
   "execution_count": null,
   "metadata": {},
   "outputs": [],
   "source": []
  },
  {
   "cell_type": "code",
   "execution_count": null,
   "metadata": {},
   "outputs": [],
   "source": []
  },
  {
   "cell_type": "code",
   "execution_count": null,
   "metadata": {},
   "outputs": [],
   "source": []
  },
  {
   "cell_type": "code",
   "execution_count": null,
   "metadata": {},
   "outputs": [],
   "source": []
  },
  {
   "cell_type": "code",
   "execution_count": null,
   "metadata": {},
   "outputs": [],
   "source": []
  },
  {
   "cell_type": "code",
   "execution_count": 63,
   "metadata": {},
   "outputs": [],
   "source": [
    "def div_count_pos_neg(X, y):\n",
    "    negatives, positives = y == 0, y == 1\n",
    "    negative_count, positive_count = np.sum(negatives), np.sum(positives)\n",
    "    X_positives, y_positives = X[positives], y[positives]\n",
    "    X_negatives, y_negatives = X[negatives], y[negatives]\n",
    "    return negative_count, positive_count, X_positives, \\\n",
    "           X_negatives, y_positives, y_negatives"
   ]
  },
  {
   "cell_type": "code",
   "execution_count": 91,
   "metadata": {},
   "outputs": [],
   "source": [
    "def oversample(X, y, tp):\n",
    "    \"\"\"Randomly choose positive observations from X & y, with replacement\n",
    "    to achieve the target proportion of positive to negative observations.\n",
    "\n",
    "    Parameters\n",
    "    ----------\n",
    "    X  : ndarray - 2D\n",
    "    y  : ndarray - 1D\n",
    "    tp : float - range [0, 1], target proportion of positive class observations\n",
    "\n",
    "    Returns\n",
    "    -------\n",
    "    X_undersampled : ndarray - 2D\n",
    "    y_undersampled : ndarray - 1D\n",
    "    \"\"\"\n",
    "#     if (0.5 < np.mean(y)).bool():\n",
    "#         return X, y\n",
    "    if 0.5 < np.mean(y):\n",
    "        return X, y\n",
    "    neg_count, pos_count, X_pos, X_neg, y_pos, y_neg = div_count_pos_neg(X, y)\n",
    "    positive_range = np.arange(pos_count)\n",
    "    positive_size = (tp * neg_count) / (1 - tp)\n",
    "    positive_idxs = np.random.choice(a=positive_range,\n",
    "                                     size=int(positive_size),\n",
    "                                     replace=True)\n",
    "    X_positive_oversampled = X_pos[positive_idxs]\n",
    "    y_positive_oversampled = y_pos[positive_idxs]\n",
    "    X_oversampled = np.vstack((X_positive_oversampled, X_neg))\n",
    "    y_oversampled = np.concatenate((y_positive_oversampled, y_neg))\n",
    "\n",
    "    return X_oversampled, y_oversampled"
   ]
  },
  {
   "cell_type": "code",
   "execution_count": 111,
   "metadata": {},
   "outputs": [],
   "source": [
    "x_o, y_o = oversample(X.values, np.ravel(y.values), 0.5)"
   ]
  },
  {
   "cell_type": "code",
   "execution_count": 114,
   "metadata": {},
   "outputs": [
    {
     "data": {
      "text/plain": [
       "(26088, 31)"
      ]
     },
     "execution_count": 114,
     "metadata": {},
     "output_type": "execute_result"
    }
   ],
   "source": [
    "x_o.shape"
   ]
  },
  {
   "cell_type": "code",
   "execution_count": 115,
   "metadata": {},
   "outputs": [
    {
     "data": {
      "text/plain": [
       "(26088,)"
      ]
     },
     "execution_count": 115,
     "metadata": {},
     "output_type": "execute_result"
    }
   ],
   "source": [
    "y_o.shape"
   ]
  },
  {
   "cell_type": "code",
   "execution_count": 130,
   "metadata": {},
   "outputs": [],
   "source": [
    "def Random_forest_model(X, y, num_trees, num_features):\n",
    "    X_train, X_test, y_train, y_test = train_test_split(X, y, test_size=0.25, random_state=42, stratify=y)\n",
    "    w1, w2 = balance_work(y_train)\n",
    "    rf_model = RandomForestClassifier(n_estimators = num_trees, max_features = num_features)\n",
    "    rf_model.fit(X_train, y_train)\n",
    "    y_predict = rf_model.predict(X_test)\n",
    "    score = rf_model.score(X_test,y_test)\n",
    "    return score, confusion_matrix(y_test, y_predict), f1_score(y_test, y_predict), rf_model\n",
    "rf_score3, rf_matrix3, f1_3, model3 = Random_forest_model(x_o, y_o, 50, 'sqrt')"
   ]
  },
  {
   "cell_type": "code",
   "execution_count": 131,
   "metadata": {},
   "outputs": [
    {
     "data": {
      "text/plain": [
       "0.997858017135863"
      ]
     },
     "execution_count": 131,
     "metadata": {},
     "output_type": "execute_result"
    }
   ],
   "source": [
    "f1_3"
   ]
  },
  {
   "cell_type": "code",
   "execution_count": 132,
   "metadata": {},
   "outputs": [
    {
     "data": {
      "text/plain": [
       "array([3247,   14,    0, 3261])"
      ]
     },
     "execution_count": 132,
     "metadata": {},
     "output_type": "execute_result"
    }
   ],
   "source": [
    "rf_matrix3.ravel()"
   ]
  },
  {
   "cell_type": "code",
   "execution_count": null,
   "metadata": {},
   "outputs": [],
   "source": []
  },
  {
   "cell_type": "code",
   "execution_count": null,
   "metadata": {},
   "outputs": [],
   "source": []
  },
  {
   "cell_type": "code",
   "execution_count": null,
   "metadata": {},
   "outputs": [],
   "source": []
  },
  {
   "cell_type": "code",
   "execution_count": 64,
   "metadata": {},
   "outputs": [],
   "source": [
    "def smote(X, y, tp, k=None):\n",
    "    \"\"\"Generates new observations from the positive (minority) class.\n",
    "    For details, see: https://www.jair.org/media/953/live-953-2037-jair.pdf\n",
    "\n",
    "\n",
    "    Parameters\n",
    "    ----------\n",
    "    X  : ndarray - 2D\n",
    "    y  : ndarray - 1D\n",
    "    tp : float - [0, 1], target proportion of positive class observations\n",
    "\n",
    "    Returns\n",
    "    -------\n",
    "    X_smoted : ndarray - 2D\n",
    "    y_smoted : ndarray - 1D\n",
    "    \"\"\"\n",
    "    if tp < float(np.mean(y)):\n",
    "        return X, y\n",
    "    if k is None:\n",
    "        k = int(len(X) ** 0.5)\n",
    "\n",
    "    neg_count, pos_count, X_pos, X_neg, y_pos, y_neg = div_count_pos_neg(X, y)\n",
    "    knn = KNeighborsClassifier(n_neighbors=k)\n",
    "    knn.fit(X_pos, y_pos)\n",
    "    neighbors = knn.kneighbors(return_distance=False)\n",
    "\n",
    "    positive_size = (tp * neg_count) / (1 - tp)\n",
    "    smote_num = int(positive_size - pos_count)\n",
    "\n",
    "    rand_idxs = np.random.randint(0, pos_count, size=smote_num)\n",
    "    rand_nghb_idxs = np.random.randint(0, k, size=smote_num)\n",
    "    rand_pcts = np.random.random((smote_num, X.shape[1]))\n",
    "    smotes = []\n",
    "    for r_idx, r_nghb_idx, r_pct in zip(rand_idxs, rand_nghb_idxs, rand_pcts):\n",
    "        rand_pos, rand_pos_neighbors = X_pos[r_idx], neighbors[r_idx]\n",
    "        rand_pos_neighbor = X_pos[rand_pos_neighbors[r_nghb_idx]]\n",
    "        rand_dir = rand_pos_neighbor - rand_pos\n",
    "        rand_change = rand_dir * r_pct\n",
    "        smoted_point = rand_pos + rand_change\n",
    "        smotes.append(smoted_point)\n",
    "\n",
    "    X_smoted = np.vstack((X, np.array(smotes)))\n",
    "    y_smoted = np.concatenate((y, np.ones((smote_num,))))\n",
    "    return X_smoted, y_smoted"
   ]
  },
  {
   "cell_type": "code",
   "execution_count": 116,
   "metadata": {},
   "outputs": [],
   "source": [
    "x_s, y_s = smote(X.values, np.ravel(y.values), 0.5)"
   ]
  },
  {
   "cell_type": "code",
   "execution_count": 117,
   "metadata": {},
   "outputs": [
    {
     "data": {
      "text/plain": [
       "array([[1.26606240e+09, 3.85200000e+03, 5.00000000e+00, ...,\n",
       "        9.20000000e+02, 0.00000000e+00, 0.00000000e+00],\n",
       "       [1.29672000e+09, 3.49900000e+03, 0.00000000e+00, ...,\n",
       "        1.00000000e+02, 2.50000000e+01, 2.50000000e-01],\n",
       "       [1.29617280e+09, 2.60100000e+03, 8.00000000e+00, ...,\n",
       "        4.80000000e+01, 4.80000000e+01, 1.00000000e+00],\n",
       "       ...,\n",
       "       [1.37226303e+09, 7.01791893e+03, 3.97404372e+00, ...,\n",
       "        1.24739303e+01, 0.00000000e+00, 0.00000000e+00],\n",
       "       [1.37945793e+09, 0.00000000e+00, 0.00000000e+00, ...,\n",
       "        3.00000000e+01, 0.00000000e+00, 0.00000000e+00],\n",
       "       [1.33023460e+09, 0.00000000e+00, 5.99578794e-01, ...,\n",
       "        6.07557381e+01, 7.55289817e+00, 4.87652846e-01]])"
      ]
     },
     "execution_count": 117,
     "metadata": {},
     "output_type": "execute_result"
    }
   ],
   "source": [
    "x_s"
   ]
  },
  {
   "cell_type": "code",
   "execution_count": 118,
   "metadata": {},
   "outputs": [
    {
     "data": {
      "text/plain": [
       "(26088, 31)"
      ]
     },
     "execution_count": 118,
     "metadata": {},
     "output_type": "execute_result"
    }
   ],
   "source": [
    "x_s.shape"
   ]
  },
  {
   "cell_type": "code",
   "execution_count": 127,
   "metadata": {},
   "outputs": [],
   "source": [
    "def Random_forest_model(X, y, num_trees, num_features):\n",
    "    X_train, X_test, y_train, y_test = train_test_split(X, y, test_size=0.25, random_state=42, stratify=y)\n",
    "    w1, w2 = balance_work(y_train)\n",
    "    rf_model = RandomForestClassifier(n_estimators = num_trees, max_features = num_features)\n",
    "    rf_model.fit(X_train, y_train)\n",
    "    y_predict = rf_model.predict(X_test)\n",
    "    score = rf_model.score(X_test,y_test)\n",
    "    return score, confusion_matrix(y_test, y_predict), f1_score(y_test, y_predict), rf_model\n",
    "rf_score4, rf_matrix4, f1_4, model4 = Random_forest_model(x_s, y_s, 50, 'sqrt')"
   ]
  },
  {
   "cell_type": "code",
   "execution_count": 128,
   "metadata": {},
   "outputs": [
    {
     "data": {
      "text/plain": [
       "array([3233,   28,   35, 3226])"
      ]
     },
     "execution_count": 128,
     "metadata": {},
     "output_type": "execute_result"
    }
   ],
   "source": [
    "rf_matrix4.ravel()"
   ]
  },
  {
   "cell_type": "code",
   "execution_count": 129,
   "metadata": {},
   "outputs": [
    {
     "data": {
      "text/plain": [
       "0.9903300076745971"
      ]
     },
     "execution_count": 129,
     "metadata": {},
     "output_type": "execute_result"
    }
   ],
   "source": [
    "f1_4"
   ]
  },
  {
   "cell_type": "code",
   "execution_count": null,
   "metadata": {},
   "outputs": [],
   "source": []
  }
 ],
 "metadata": {
  "kernelspec": {
   "display_name": "Python 3",
   "language": "python",
   "name": "python3"
  },
  "language_info": {
   "codemirror_mode": {
    "name": "ipython",
    "version": 3
   },
   "file_extension": ".py",
   "mimetype": "text/x-python",
   "name": "python",
   "nbconvert_exporter": "python",
   "pygments_lexer": "ipython3",
   "version": "3.7.6"
  }
 },
 "nbformat": 4,
 "nbformat_minor": 4
}
